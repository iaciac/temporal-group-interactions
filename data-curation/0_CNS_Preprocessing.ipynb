{
 "cells": [
  {
   "cell_type": "code",
   "execution_count": 1,
   "metadata": {},
   "outputs": [],
   "source": [
    "import pandas as pd\n",
    "import pickle\n",
    "import numpy as np\n",
    "from itertools import combinations\n",
    "import networkx as nx\n",
    "import sys\n",
    "import os\n",
    "\n",
    "sys.path.append(\"../code/\")\n",
    "from data_processing import LoadData, get_triadic_closure_links_to_add_at_time_t\n",
    "\n",
    "import matplotlib.pyplot as plt\n",
    "%matplotlib inline\n",
    "from matplotlib.colors import ListedColormap\n",
    "from matplotlib.lines import Line2D\n",
    "import palettable as pltt\n",
    "import matplotlib as mplt\n",
    "mplt.rcParams['font.sans-serif'] = 'Avenir'\n",
    "\n",
    "plt.rcParams['xtick.major.width'] = 1.2\n",
    "plt.rcParams['ytick.major.width'] = 1.2\n",
    "plt.rcParams['xtick.minor.size'] = 2\n",
    "plt.rcParams['xtick.minor.width'] = 1.2\n",
    "plt.rcParams['ytick.minor.size'] = 2\n",
    "plt.rcParams['ytick.minor.width'] = 1.2\n",
    "plt.rcParams['axes.linewidth'] = 1.2"
   ]
  },
  {
   "cell_type": "code",
   "execution_count": 6,
   "metadata": {},
   "outputs": [],
   "source": [
    "#Setting up local directories\n",
    "DIRs_TO_CREATE = [\"figures\", \"results\", \"temp\"]\n",
    "        \n",
    "#Directories for outputs\n",
    "DIRs_TO_CREATE.extend([\"../data-processed/CNS/\"])\n",
    "\n",
    "for directory in DIRs_TO_CREATE:\n",
    "    if not os.path.exists(directory):\n",
    "        os.makedirs(directory)"
   ]
  },
  {
   "cell_type": "code",
   "execution_count": 2,
   "metadata": {},
   "outputs": [],
   "source": [
    "DATA_DIR = \"../data-raw/CNS/\"\n",
    "DATA_FILENAMES = {\"bluetooth\": \"bt_symmetric.csv\",\n",
    "                  \"calls\": \"calls.csv\",\n",
    "                  \"sms\": \"sms.csv\",\n",
    "                  \"facebook_friends\": \"fb_friends.csv\",\n",
    "                  \"genders\": \"genders.csv\"}"
   ]
  },
  {
   "cell_type": "markdown",
   "metadata": {},
   "source": [
    "## Loading and preprocessing the bluetooth dataframe "
   ]
  },
  {
   "cell_type": "markdown",
   "metadata": {},
   "source": [
    "`timestamp`\tTimestamp in seconds from the beginning of the observation period (as reported by the device. Note, that because of differences in the internal clock of different devices, some of the measurements will not be perfectly aligned). Four weeks observation period divided into into 8064 **five minute periods** (4 (weeks) × 7 (days) × 24 (hours) × 12 (five minute periods) = 8064.\n",
    "\n",
    "`user_a`\tID of one user (ego).\n",
    "\n",
    "`user_b`\tID of the other user (alter). 0–850 for participants of the study, −1 for empty scans, −2 for any non-participating device.\n",
    "\n",
    "`rssi`\tReceived Signal Strength Indication, measured in dBm, a rough proxy for distance between devices (the higher the absolute value, the higher the distance)"
   ]
  },
  {
   "cell_type": "code",
   "execution_count": 3,
   "metadata": {},
   "outputs": [
    {
     "name": "stdout",
     "output_type": "stream",
     "text": [
      "5474289\n"
     ]
    },
    {
     "data": {
      "text/html": [
       "<div>\n",
       "<style scoped>\n",
       "    .dataframe tbody tr th:only-of-type {\n",
       "        vertical-align: middle;\n",
       "    }\n",
       "\n",
       "    .dataframe tbody tr th {\n",
       "        vertical-align: top;\n",
       "    }\n",
       "\n",
       "    .dataframe thead th {\n",
       "        text-align: right;\n",
       "    }\n",
       "</style>\n",
       "<table border=\"1\" class=\"dataframe\">\n",
       "  <thead>\n",
       "    <tr style=\"text-align: right;\">\n",
       "      <th></th>\n",
       "      <th># timestamp</th>\n",
       "      <th>user_a</th>\n",
       "      <th>user_b</th>\n",
       "      <th>rssi</th>\n",
       "    </tr>\n",
       "  </thead>\n",
       "  <tbody>\n",
       "    <tr>\n",
       "      <th>0</th>\n",
       "      <td>0</td>\n",
       "      <td>0</td>\n",
       "      <td>-1</td>\n",
       "      <td>0</td>\n",
       "    </tr>\n",
       "    <tr>\n",
       "      <th>1</th>\n",
       "      <td>0</td>\n",
       "      <td>1</td>\n",
       "      <td>-1</td>\n",
       "      <td>0</td>\n",
       "    </tr>\n",
       "    <tr>\n",
       "      <th>2</th>\n",
       "      <td>0</td>\n",
       "      <td>2</td>\n",
       "      <td>-1</td>\n",
       "      <td>0</td>\n",
       "    </tr>\n",
       "    <tr>\n",
       "      <th>3</th>\n",
       "      <td>0</td>\n",
       "      <td>3</td>\n",
       "      <td>-2</td>\n",
       "      <td>-88</td>\n",
       "    </tr>\n",
       "    <tr>\n",
       "      <th>4</th>\n",
       "      <td>0</td>\n",
       "      <td>5</td>\n",
       "      <td>-1</td>\n",
       "      <td>0</td>\n",
       "    </tr>\n",
       "  </tbody>\n",
       "</table>\n",
       "</div>"
      ],
      "text/plain": [
       "   # timestamp  user_a  user_b  rssi\n",
       "0            0       0      -1     0\n",
       "1            0       1      -1     0\n",
       "2            0       2      -1     0\n",
       "3            0       3      -2   -88\n",
       "4            0       5      -1     0"
      ]
     },
     "execution_count": 3,
     "metadata": {},
     "output_type": "execute_result"
    }
   ],
   "source": [
    "df = LoadData(DATA_FILENAMES[\"bluetooth\"], DATA_DIR)\n",
    "print(len(df))\n",
    "df.head()"
   ]
  },
  {
   "cell_type": "markdown",
   "metadata": {},
   "source": [
    "### Cleaning wrong RSSI\n",
    "There are 4 entries with RSSI=20 (makes no sense)"
   ]
  },
  {
   "cell_type": "code",
   "execution_count": 4,
   "metadata": {},
   "outputs": [
    {
     "name": "stdout",
     "output_type": "stream",
     "text": [
      "5474285\n"
     ]
    }
   ],
   "source": [
    "df = df[df['rssi']<=0]\n",
    "print(len(df))"
   ]
  },
  {
   "cell_type": "markdown",
   "metadata": {},
   "source": [
    "### Rescaling time\n",
    "The width of each temporal bin is 300, correspondent to 5 minutes. I divide it so that timestamps are distant 1."
   ]
  },
  {
   "cell_type": "code",
   "execution_count": 5,
   "metadata": {},
   "outputs": [],
   "source": [
    "df['# timestamp'] = (df['# timestamp']/300).astype(int)"
   ]
  },
  {
   "cell_type": "markdown",
   "metadata": {},
   "source": [
    "### Mapping IDs\n",
    "Some IDs are missing, I will convert them to consecutive ones"
   ]
  },
  {
   "cell_type": "code",
   "execution_count": 6,
   "metadata": {},
   "outputs": [
    {
     "name": "stdout",
     "output_type": "stream",
     "text": [
      "706\n",
      "845\n"
     ]
    }
   ],
   "source": [
    "#Extracting all the users IDs\n",
    "users = set(df['user_a'].unique()).union(set(df['user_b'].unique()))\n",
    "#Removing the placeholder -1 and -2\n",
    "users.remove(-1)\n",
    "users.remove(-2)\n",
    "#Converting to list\n",
    "users = list(users)\n",
    "print(len(users)), print(max(users));"
   ]
  },
  {
   "cell_type": "code",
   "execution_count": 7,
   "metadata": {},
   "outputs": [
    {
     "name": "stdout",
     "output_type": "stream",
     "text": [
      "706\n",
      "705\n"
     ]
    }
   ],
   "source": [
    "#Dictionaries to keep track of the mapping\n",
    "old_id_to_new = {}\n",
    "new_id_to_old = {}\n",
    "\n",
    "for new_id, old_id in enumerate(users):\n",
    "    old_id_to_new[old_id]=new_id\n",
    "    new_id_to_old[new_id]=old_id\n",
    "    \n",
    "#Mapping the list of users:\n",
    "users = [old_id_to_new[ID] for ID in users]\n",
    "\n",
    "print(len(users)), print(max(users));"
   ]
  },
  {
   "cell_type": "markdown",
   "metadata": {},
   "source": [
    "Saving the dictionaries"
   ]
  },
  {
   "cell_type": "code",
   "execution_count": 8,
   "metadata": {},
   "outputs": [],
   "source": [
    "output_path = \"../data-processed/CNS/\"\n",
    "\n",
    "fname = \"old_id_to_new_dict.p\"\n",
    "pickle.dump( old_id_to_new, open( output_path+fname, \"wb\" ) )\n",
    "\n",
    "fname = \"new_id_to_old_dict.p\"\n",
    "pickle.dump( new_id_to_old, open( output_path+fname, \"wb\" ) )"
   ]
  },
  {
   "cell_type": "markdown",
   "metadata": {},
   "source": [
    "Replacing the IDs with the new ones, according to the dictionaries"
   ]
  },
  {
   "cell_type": "code",
   "execution_count": 9,
   "metadata": {},
   "outputs": [],
   "source": [
    "df.replace({'user_a':old_id_to_new}, inplace=True)\n",
    "df.replace({'user_b':old_id_to_new}, inplace=True)"
   ]
  },
  {
   "cell_type": "markdown",
   "metadata": {},
   "source": [
    "### Fraction of external vs isolated vs missing vs interacting users?"
   ]
  },
  {
   "cell_type": "code",
   "execution_count": 10,
   "metadata": {},
   "outputs": [
    {
     "name": "stdout",
     "output_type": "stream",
     "text": [
      "0\n",
      "1000\n",
      "2000\n",
      "3000\n",
      "4000\n",
      "5000\n",
      "6000\n",
      "7000\n",
      "8000\n"
     ]
    }
   ],
   "source": [
    "N = 706 #Real number of users\n",
    "\n",
    "users_int_data = []\n",
    "\n",
    "for timestamp in df['# timestamp'].unique():\n",
    "    dft = df[df['# timestamp']==timestamp]\n",
    "    \n",
    "    #Counting users that have real interactions\n",
    "    users_int = set(dft['user_a'].unique()).union(set(dft['user_b'].unique()))\n",
    "    users_int.remove(-1)\n",
    "    users_int.remove(-2)\n",
    "    N_users_int = len(users_int)\n",
    "    \n",
    "    #Counting users that interact solely with out-of-sample users\n",
    "    users_ext = set(dft[dft['user_b']==-2]['user_a'].unique())\n",
    "    users_ext = users_ext.difference(users_int) #removing those that interact also internally\n",
    "    N_users_ext = len(users_ext)\n",
    "    \n",
    "    #Counting users that are declared isolated\n",
    "    users_iso = set(dft[dft['user_b']==-1]['user_a'].unique())\n",
    "    users_iso = users_iso.difference(users_int) #this is not really necessary, but just to be sure\n",
    "    N_users_iso = len(users_iso)\n",
    "    \n",
    "    N_users_missing = N-(N_users_int+N_users_ext+N_users_iso)\n",
    "    \n",
    "    row = [timestamp, N_users_int, N_users_ext, N_users_iso, N_users_missing]\n",
    "    users_int_data.append(row)\n",
    "    \n",
    "    if timestamp%1000==0: print(timestamp)\n",
    "    \n",
    "users_int_df = pd.DataFrame(users_int_data, columns=['# timestamp', 'N_users_int', 'N_users_ext',\n",
    "                                                     'N_users_iso', 'N_users_missing'])"
   ]
  },
  {
   "cell_type": "code",
   "execution_count": 13,
   "metadata": {},
   "outputs": [
    {
     "data": {
      "image/png": "[encoded data removed]",
      "text/plain": [
       "<Figure size 468x288 with 1 Axes>"
      ]
     },
     "metadata": {
      "needs_background": "light"
     },
     "output_type": "display_data"
    }
   ],
   "source": [
    "plt.figure(figsize=(6.5, 4))\n",
    "\n",
    "ax = plt.subplot(111)\n",
    "\n",
    "users_int_df.plot.area(x='# timestamp', ax=ax,\n",
    "                      color={'N_users_missing':'#b2df8a', 'N_users_int':'#a6cee3',\n",
    "                             'N_users_iso':'#1f78b4', 'N_users_ext':'lightgray'})\n",
    "\n",
    "ax.set_xlabel('Time', size=18)\n",
    "ax.set_ylabel('Number of users', size=18)\n",
    "ax.tick_params(axis='both', which='major', labelsize=18)\n",
    "ax.spines['right'].set_visible(False)\n",
    "ax.spines['top'].set_visible(False)\n",
    "ax.yaxis.set_ticks_position('left')\n",
    "ax.xaxis.set_ticks_position('bottom')\n",
    "\n",
    "ax.set_xlim(0, users_int_df['# timestamp'].max())\n",
    "ax.set_ylim(0, N)\n",
    "\n",
    "custom_lines = [Line2D([0], [0], color='#a6cee3', lw=8),\n",
    "                Line2D([0], [0], color='lightgray', lw=8),\n",
    "                Line2D([0], [0], color='#1f78b4', lw=8),\n",
    "               Line2D([0], [0], color='#b2df8a', lw=8)]\n",
    "ax.legend(custom_lines, [\"Interacting internally\", \"Interacting (only) externally\", \"Isolated\", \"No data\"],\n",
    "          fontsize=14, handlelength=1, borderpad=0.8);\n",
    "\n",
    "plt.tight_layout()\n",
    "\n",
    "filename = \"figures/CNS_users_class_in_time.pdf\"\n",
    "plt.savefig(filename, bbox_inches='tight', dpi=150)"
   ]
  },
  {
   "cell_type": "markdown",
   "metadata": {},
   "source": [
    "### Removing external users\n",
    "In bins where userA discovered other Bluetooth devices but not other study participants, we reported the alter ID as −2 and the highest received signal strength measured. We do not report the type of the discovered device."
   ]
  },
  {
   "cell_type": "code",
   "execution_count": 14,
   "metadata": {},
   "outputs": [
    {
     "name": "stdout",
     "output_type": "stream",
     "text": [
      "4646411\n"
     ]
    }
   ],
   "source": [
    "#Removing interactions outside of the tracked users\n",
    "df = df[df['user_b']!=-2]\n",
    "print(len(df))"
   ]
  },
  {
   "cell_type": "markdown",
   "metadata": {},
   "source": [
    "### Filtering by RSSI\n",
    "In the paper [https://journals.plos.org/plosone/article?id=10.1371/journal.pone.0100915 ] they filter at -80dBm, saying that it optimizes the ratio between strong and weak links. In a large majority of cases, this corresponds to interactions that occur within a radius of 0-2 meters -- a distance which Hall [https://books.google.it/books/about/The_Hidden_Dimension.html?id=07H4zAEACAAJ] notes as a typical social distance for interactions among close acquaintances.\n",
    "\n",
    "We filter at -90dBm instead! To get a bit more"
   ]
  },
  {
   "cell_type": "code",
   "execution_count": 15,
   "metadata": {},
   "outputs": [],
   "source": [
    "#All nonzero values\n",
    "values = df[df['rssi']!=0]['rssi'].values\n",
    "\n",
    "#Filtering\n",
    "filtered_values = df[(df['rssi']!=0)&(df['rssi']>=-90)]['rssi'].values"
   ]
  },
  {
   "cell_type": "code",
   "execution_count": 18,
   "metadata": {},
   "outputs": [
    {
     "data": {
      "image/png": "[encoded data removed]",
      "text/plain": [
       "<Figure size 864x252 with 2 Axes>"
      ]
     },
     "metadata": {
      "needs_background": "light"
     },
     "output_type": "display_data"
    }
   ],
   "source": [
    "plt.figure(figsize=(12, 3.5))\n",
    "\n",
    "ax = plt.subplot(121)\n",
    "\n",
    "ax.hist(values, histtype='stepfilled', color='lightgray',\n",
    "        bins=np.linspace(-100,-20,33), label='Unfiltered', clip_on=False)\n",
    "ax.hist(filtered_values, histtype='stepfilled', color='C0', ec=\"k\",\n",
    "        bins=np.linspace(-100,-20,33), label='Filtered', clip_on=False)\n",
    "\n",
    "ax.set_xlabel('Received Signal Strength Indication (RSSI)', size=18)\n",
    "ax.set_ylabel('Num. records', size=18)\n",
    "ax.tick_params(axis='both', which='major', labelsize=18)\n",
    "ax.set_xlim(-105, -20)\n",
    "ax.set_ylim(0, 3e5)\n",
    "\n",
    "#Scientific notation y-axis\n",
    "plt.ticklabel_format(axis=\"y\", style=\"sci\", scilimits=(0,0))\n",
    "\n",
    "ax.legend(frameon=False, fontsize=14)\n",
    "\n",
    "ax.spines['right'].set_visible(False)\n",
    "ax.spines['top'].set_visible(False)\n",
    "ax.yaxis.set_ticks_position('left')\n",
    "ax.xaxis.set_ticks_position('bottom')\n",
    "\n",
    "ax.annotate('A', xy=(-0.1, -0.29), xycoords=\"axes fraction\", fontsize=18, fontweight=\"bold\")\n",
    "\n",
    "########################################################################\n",
    "ax = plt.subplot(122)\n",
    "\n",
    "ax.hist(values, histtype='stepfilled', color='lightgray',\n",
    "        bins=np.linspace(-100,-20,33), label='Unfiltered')\n",
    "ax.hist(filtered_values, histtype='stepfilled', color='C0', ec=\"k\",\n",
    "        bins=np.linspace(-100,-20,33), label='Filtered')\n",
    "\n",
    "ax.set_xlabel('Received Signal Strength Indication (RSSI)', size=18)\n",
    "ax.set_ylabel('Num. records', size=18)\n",
    "ax.tick_params(axis='both', which='major', labelsize=18)\n",
    "ax.set_xlim(-105, -20)\n",
    "ax.set_yscale('log')\n",
    "ax.set_ylim(1e1, 1e6)\n",
    "ax.set_yticks([1e1,1e2,1e3,1e4,1e5,1e6])\n",
    "\n",
    "ax.legend(frameon=False, fontsize=14)\n",
    "\n",
    "ax.spines['right'].set_visible(False)\n",
    "ax.spines['top'].set_visible(False)\n",
    "ax.yaxis.set_ticks_position('left')\n",
    "ax.xaxis.set_ticks_position('bottom')\n",
    "\n",
    "ax.annotate('B', xy=(-0.1, -0.29), xycoords=\"axes fraction\", fontsize=18, fontweight=\"bold\")\n",
    "\n",
    "plt.tight_layout()\n",
    "\n",
    "filename = \"figures/CNS_RSSI_filtering.pdf\"\n",
    "plt.savefig(filename, bbox_inches='tight', dpi=150)"
   ]
  },
  {
   "cell_type": "code",
   "execution_count": 19,
   "metadata": {},
   "outputs": [],
   "source": [
    "df=df[df['rssi']>=-90]"
   ]
  },
  {
   "cell_type": "code",
   "execution_count": 20,
   "metadata": {},
   "outputs": [],
   "source": [
    "output_path = \"temp/\"\n",
    "fname = \"CNS_bluetooth_partially_processed.csv\"\n",
    "df.to_csv(output_path+fname, sep=',', header=True, index=False)"
   ]
  },
  {
   "cell_type": "code",
   "execution_count": 21,
   "metadata": {},
   "outputs": [
    {
     "name": "stdout",
     "output_type": "stream",
     "text": [
      "All records 1603916\n",
      "Pairwise interactions 3824052\n",
      "Empty scans 2220136\n"
     ]
    }
   ],
   "source": [
    "print('All records', len(df[df['rssi']!=0]))\n",
    "print('Pairwise interactions', len(df))\n",
    "print('Empty scans', len(df[df['rssi']==0]))"
   ]
  },
  {
   "cell_type": "markdown",
   "metadata": {},
   "source": [
    "## Filling single gaps"
   ]
  },
  {
   "cell_type": "code",
   "execution_count": 38,
   "metadata": {},
   "outputs": [
    {
     "data": {
      "text/html": [
       "<div>\n",
       "<style scoped>\n",
       "    .dataframe tbody tr th:only-of-type {\n",
       "        vertical-align: middle;\n",
       "    }\n",
       "\n",
       "    .dataframe tbody tr th {\n",
       "        vertical-align: top;\n",
       "    }\n",
       "\n",
       "    .dataframe thead th {\n",
       "        text-align: right;\n",
       "    }\n",
       "</style>\n",
       "<table border=\"1\" class=\"dataframe\">\n",
       "  <thead>\n",
       "    <tr style=\"text-align: right;\">\n",
       "      <th></th>\n",
       "      <th># timestamp</th>\n",
       "      <th>user_a</th>\n",
       "      <th>user_b</th>\n",
       "      <th>rssi</th>\n",
       "    </tr>\n",
       "  </thead>\n",
       "  <tbody>\n",
       "    <tr>\n",
       "      <th>0</th>\n",
       "      <td>0</td>\n",
       "      <td>0</td>\n",
       "      <td>-1</td>\n",
       "      <td>0</td>\n",
       "    </tr>\n",
       "    <tr>\n",
       "      <th>1</th>\n",
       "      <td>0</td>\n",
       "      <td>1</td>\n",
       "      <td>-1</td>\n",
       "      <td>0</td>\n",
       "    </tr>\n",
       "    <tr>\n",
       "      <th>2</th>\n",
       "      <td>0</td>\n",
       "      <td>2</td>\n",
       "      <td>-1</td>\n",
       "      <td>0</td>\n",
       "    </tr>\n",
       "    <tr>\n",
       "      <th>3</th>\n",
       "      <td>0</td>\n",
       "      <td>5</td>\n",
       "      <td>-1</td>\n",
       "      <td>0</td>\n",
       "    </tr>\n",
       "    <tr>\n",
       "      <th>4</th>\n",
       "      <td>0</td>\n",
       "      <td>6</td>\n",
       "      <td>-1</td>\n",
       "      <td>0</td>\n",
       "    </tr>\n",
       "  </tbody>\n",
       "</table>\n",
       "</div>"
      ],
      "text/plain": [
       "   # timestamp  user_a  user_b  rssi\n",
       "0            0       0      -1     0\n",
       "1            0       1      -1     0\n",
       "2            0       2      -1     0\n",
       "3            0       5      -1     0\n",
       "4            0       6      -1     0"
      ]
     },
     "execution_count": 38,
     "metadata": {},
     "output_type": "execute_result"
    }
   ],
   "source": [
    "output_path = \"temp/\"\n",
    "fname = \"CNS_bluetooth_partially_processed.csv\"\n",
    "df = pd.read_csv(output_path+fname)\n",
    "df.head()"
   ]
  },
  {
   "cell_type": "markdown",
   "metadata": {},
   "source": [
    "Now I need to fill the gaps composed by all pairwise interactions that are present at times $t$ and $t+2$ but not at time $t+1$"
   ]
  },
  {
   "cell_type": "code",
   "execution_count": 39,
   "metadata": {},
   "outputs": [],
   "source": [
    "#Unique pairs of users (real ones, so I remove the records when A has no receiver -> B=-1)\n",
    "unique_pairs = [(user_a, user_b) for (user_a, user_b), _ in df.groupby(by=['user_a', 'user_b']) if user_b!=-1]"
   ]
  },
  {
   "cell_type": "code",
   "execution_count": null,
   "metadata": {},
   "outputs": [],
   "source": [
    "#I create a list of entries that will be added\n",
    "entries_to_add = []\n",
    "\n",
    "for user_a, user_b in unique_pairs:\n",
    "    #Dataframe of current interactions of ab\n",
    "    df_ab = df[(df['user_a']==user_a) & (df['user_b']==user_b)]\n",
    "    for t in df_ab['# timestamp']:\n",
    "        #Check if an entry at t+2 exists but not at t+1\n",
    "        if ((df_ab['# timestamp']==t+2).any() & (not (df_ab['# timestamp']==t+1).any())):\n",
    "            #I add the entry at t+1, the RSSI will be the average\n",
    "            avg_rssi = (int(df_ab[df_ab['# timestamp']==t]['rssi'])+int(df_ab[df_ab['# timestamp']==t+2]['rssi']))/2\n",
    "            entries_to_add.append([t+1, user_a, user_b, avg_rssi])\n",
    "print(len(entries_to_add))"
   ]
  },
  {
   "cell_type": "code",
   "execution_count": 31,
   "metadata": {},
   "outputs": [],
   "source": [
    "output_path = \"temp/\"\n",
    "fname = \"entries_to_add.p\"\n",
    "pickle.dump(entries_to_add, open(output_path+fname, \"wb\" ) )"
   ]
  },
  {
   "cell_type": "code",
   "execution_count": 60,
   "metadata": {},
   "outputs": [
    {
     "name": "stdout",
     "output_type": "stream",
     "text": [
      "163349\n"
     ]
    }
   ],
   "source": [
    "input_path = \"temp/\"\n",
    "fname = \"entries_to_add.p\"\n",
    "entries_to_add = pickle.load(open(input_path+fname, \"rb\" ) )\n",
    "print(len(entries_to_add))"
   ]
  },
  {
   "cell_type": "code",
   "execution_count": 61,
   "metadata": {},
   "outputs": [
    {
     "name": "stdout",
     "output_type": "stream",
     "text": [
      "3824052 3987401 163349\n"
     ]
    }
   ],
   "source": [
    "#I add the new entries to a new dataframe\n",
    "filled_df = df.copy()\n",
    "\n",
    "#Converting the entries to dicts\n",
    "entries_to_add_dict = []\n",
    "for entry in entries_to_add:\n",
    "    row = {'# timestamp': entry[0], 'user_a': entry[1],'user_b': entry[2],'rssi': entry[3]}\n",
    "    entries_to_add_dict.append(row)\n",
    "    \n",
    "entries_to_add_df = pd.DataFrame.from_records(entries_to_add_dict)\n",
    "\n",
    "filled_df = pd.concat([df, entries_to_add_df], ignore_index=True)\n",
    "print(len(df), len(filled_df), len(filled_df)-len(df))"
   ]
  },
  {
   "cell_type": "markdown",
   "metadata": {},
   "source": [
    "I need to check if I added an interaction in a place where one of the nodes was already registered as isolated (interacting with a -1)."
   ]
  },
  {
   "cell_type": "code",
   "execution_count": 62,
   "metadata": {},
   "outputs": [
    {
     "name": "stdout",
     "output_type": "stream",
     "text": [
      "1327\n"
     ]
    }
   ],
   "source": [
    "#I start looking for duplicates in the filled dataframe\n",
    "duplicates = filled_df[filled_df.duplicated(subset=['# timestamp','user_a'], keep=False)]\n",
    "\n",
    "#Among these, I will look for those that have an empty interaction, and these are those that I'll have to remove\n",
    "to_remove = duplicates[duplicates['rssi']==0]\n",
    "print(len(to_remove))"
   ]
  },
  {
   "cell_type": "code",
   "execution_count": 63,
   "metadata": {},
   "outputs": [
    {
     "name": "stdout",
     "output_type": "stream",
     "text": [
      "1327\n"
     ]
    }
   ],
   "source": [
    "#Removing the wrong entries\n",
    "filled_df_corrected = filled_df.drop(to_remove.index)\n",
    "print(len(filled_df)-len(filled_df_corrected))"
   ]
  },
  {
   "cell_type": "code",
   "execution_count": 65,
   "metadata": {},
   "outputs": [],
   "source": [
    "output_path = \"temp/\"\n",
    "fname = \"CNS_bluetooth_thresholded_and_filled.csv.gz\"\n",
    "filled_df_corrected.to_csv(output_path+fname, sep=',', header=True, index=False, compression='gzip')"
   ]
  },
  {
   "cell_type": "markdown",
   "metadata": {},
   "source": [
    "## Removing scattered (5min) interactions\n",
    "I remove interactions that last for just a single timestamp, that means that are present at $t$ but not at $t-1$ or $t+1$"
   ]
  },
  {
   "cell_type": "code",
   "execution_count": 67,
   "metadata": {},
   "outputs": [
    {
     "data": {
      "text/html": [
       "<div>\n",
       "<style scoped>\n",
       "    .dataframe tbody tr th:only-of-type {\n",
       "        vertical-align: middle;\n",
       "    }\n",
       "\n",
       "    .dataframe tbody tr th {\n",
       "        vertical-align: top;\n",
       "    }\n",
       "\n",
       "    .dataframe thead th {\n",
       "        text-align: right;\n",
       "    }\n",
       "</style>\n",
       "<table border=\"1\" class=\"dataframe\">\n",
       "  <thead>\n",
       "    <tr style=\"text-align: right;\">\n",
       "      <th></th>\n",
       "      <th># timestamp</th>\n",
       "      <th>user_a</th>\n",
       "      <th>user_b</th>\n",
       "      <th>rssi</th>\n",
       "    </tr>\n",
       "  </thead>\n",
       "  <tbody>\n",
       "    <tr>\n",
       "      <th>0</th>\n",
       "      <td>0</td>\n",
       "      <td>0</td>\n",
       "      <td>-1</td>\n",
       "      <td>0.0</td>\n",
       "    </tr>\n",
       "    <tr>\n",
       "      <th>1</th>\n",
       "      <td>0</td>\n",
       "      <td>1</td>\n",
       "      <td>-1</td>\n",
       "      <td>0.0</td>\n",
       "    </tr>\n",
       "    <tr>\n",
       "      <th>2</th>\n",
       "      <td>0</td>\n",
       "      <td>2</td>\n",
       "      <td>-1</td>\n",
       "      <td>0.0</td>\n",
       "    </tr>\n",
       "    <tr>\n",
       "      <th>3</th>\n",
       "      <td>0</td>\n",
       "      <td>5</td>\n",
       "      <td>-1</td>\n",
       "      <td>0.0</td>\n",
       "    </tr>\n",
       "    <tr>\n",
       "      <th>4</th>\n",
       "      <td>0</td>\n",
       "      <td>6</td>\n",
       "      <td>-1</td>\n",
       "      <td>0.0</td>\n",
       "    </tr>\n",
       "  </tbody>\n",
       "</table>\n",
       "</div>"
      ],
      "text/plain": [
       "   # timestamp  user_a  user_b  rssi\n",
       "0            0       0      -1   0.0\n",
       "1            0       1      -1   0.0\n",
       "2            0       2      -1   0.0\n",
       "3            0       5      -1   0.0\n",
       "4            0       6      -1   0.0"
      ]
     },
     "execution_count": 67,
     "metadata": {},
     "output_type": "execute_result"
    }
   ],
   "source": [
    "output_path = \"temp/\"\n",
    "fname = \"CNS_bluetooth_thresholded_and_filled.csv.gz\"\n",
    "df = pd.read_csv(output_path+fname)\n",
    "df.head()"
   ]
  },
  {
   "cell_type": "code",
   "execution_count": 68,
   "metadata": {},
   "outputs": [],
   "source": [
    "#Unique pairs of users (real ones, so I remove the records when A has no receiver -> B=-1)\n",
    "unique_pairs = [(user_a, user_b) for (user_a, user_b), _ in df.groupby(by=['user_a', 'user_b']) if user_b!=-1]"
   ]
  },
  {
   "cell_type": "code",
   "execution_count": null,
   "metadata": {},
   "outputs": [],
   "source": [
    "#Here I will store the indexes of the interactions to remove\n",
    "indices_to_remove = []\n",
    "\n",
    "for user_a, user_b in unique_pairs:\n",
    "    #Dataframe of current interactions of ab\n",
    "    df_ab = df[(df['user_a']==user_a) & (df['user_b']==user_b)]\n",
    "    for t in df_ab['# timestamp']:\n",
    "        if (df_ab['# timestamp']==t-1).any() or (df_ab['# timestamp']==t+1).any():\n",
    "            #This is not isolated\n",
    "            continue\n",
    "        else:\n",
    "            #It is isolated, I'll have to remove it\n",
    "            index_to_drop = df_ab[df_ab['# timestamp']==t].index\n",
    "            indices_to_remove.append(index_to_drop)\n",
    "print(len(indices_to_remove))"
   ]
  },
  {
   "cell_type": "code",
   "execution_count": 94,
   "metadata": {},
   "outputs": [],
   "source": [
    "output_path = \"temp/\"\n",
    "fname = \"indices_to_remove.p\"\n",
    "pickle.dump(indices_to_remove, open(output_path+fname, \"wb\" ) )"
   ]
  },
  {
   "cell_type": "code",
   "execution_count": 70,
   "metadata": {},
   "outputs": [],
   "source": [
    "input_path = \"temp/\"\n",
    "fname = \"indices_to_remove.p\"\n",
    "indices_to_remove = pickle.load(open(input_path+fname, \"rb\" ) )"
   ]
  },
  {
   "cell_type": "code",
   "execution_count": 71,
   "metadata": {},
   "outputs": [
    {
     "name": "stdout",
     "output_type": "stream",
     "text": [
      "130935\n"
     ]
    }
   ],
   "source": [
    "clean_indices_to_remove = [ii[0] for ii in indices_to_remove]\n",
    "\n",
    "#Removing\n",
    "df_final = df.drop(clean_indices_to_remove)\n",
    "print(len(df)-len(df_final))"
   ]
  },
  {
   "cell_type": "code",
   "execution_count": 72,
   "metadata": {},
   "outputs": [
    {
     "data": {
      "text/plain": [
       "3855139"
      ]
     },
     "execution_count": 72,
     "metadata": {},
     "output_type": "execute_result"
    }
   ],
   "source": [
    "len(df_final)"
   ]
  },
  {
   "cell_type": "code",
   "execution_count": 73,
   "metadata": {},
   "outputs": [],
   "source": [
    "output_path = \"temp/\"\n",
    "fname = \"CNS_bluetooth_thresholded_filled_and_nosingletons.csv.gz\"\n",
    "df_final.to_csv(output_path+fname, sep=',', header=True, index=False, compression='gzip')"
   ]
  },
  {
   "cell_type": "markdown",
   "metadata": {},
   "source": [
    "## Closing triangles"
   ]
  },
  {
   "cell_type": "code",
   "execution_count": 86,
   "metadata": {},
   "outputs": [
    {
     "data": {
      "text/html": [
       "<div>\n",
       "<style scoped>\n",
       "    .dataframe tbody tr th:only-of-type {\n",
       "        vertical-align: middle;\n",
       "    }\n",
       "\n",
       "    .dataframe tbody tr th {\n",
       "        vertical-align: top;\n",
       "    }\n",
       "\n",
       "    .dataframe thead th {\n",
       "        text-align: right;\n",
       "    }\n",
       "</style>\n",
       "<table border=\"1\" class=\"dataframe\">\n",
       "  <thead>\n",
       "    <tr style=\"text-align: right;\">\n",
       "      <th></th>\n",
       "      <th># timestamp</th>\n",
       "      <th>user_a</th>\n",
       "      <th>user_b</th>\n",
       "      <th>rssi</th>\n",
       "    </tr>\n",
       "  </thead>\n",
       "  <tbody>\n",
       "    <tr>\n",
       "      <th>0</th>\n",
       "      <td>0</td>\n",
       "      <td>0</td>\n",
       "      <td>-1</td>\n",
       "      <td>0.0</td>\n",
       "    </tr>\n",
       "    <tr>\n",
       "      <th>1</th>\n",
       "      <td>0</td>\n",
       "      <td>1</td>\n",
       "      <td>-1</td>\n",
       "      <td>0.0</td>\n",
       "    </tr>\n",
       "    <tr>\n",
       "      <th>2</th>\n",
       "      <td>0</td>\n",
       "      <td>2</td>\n",
       "      <td>-1</td>\n",
       "      <td>0.0</td>\n",
       "    </tr>\n",
       "    <tr>\n",
       "      <th>3</th>\n",
       "      <td>0</td>\n",
       "      <td>5</td>\n",
       "      <td>-1</td>\n",
       "      <td>0.0</td>\n",
       "    </tr>\n",
       "    <tr>\n",
       "      <th>4</th>\n",
       "      <td>0</td>\n",
       "      <td>6</td>\n",
       "      <td>-1</td>\n",
       "      <td>0.0</td>\n",
       "    </tr>\n",
       "  </tbody>\n",
       "</table>\n",
       "</div>"
      ],
      "text/plain": [
       "   # timestamp  user_a  user_b  rssi\n",
       "0            0       0      -1   0.0\n",
       "1            0       1      -1   0.0\n",
       "2            0       2      -1   0.0\n",
       "3            0       5      -1   0.0\n",
       "4            0       6      -1   0.0"
      ]
     },
     "execution_count": 86,
     "metadata": {},
     "output_type": "execute_result"
    }
   ],
   "source": [
    "output_path = \"temp/\"\n",
    "fname = \"CNS_bluetooth_thresholded_filled_and_nosingletons.csv.gz\"\n",
    "df = pd.read_csv(output_path+fname)\n",
    "df.head()"
   ]
  },
  {
   "cell_type": "markdown",
   "metadata": {},
   "source": [
    "I will iterate over every node and link all the neighbors."
   ]
  },
  {
   "cell_type": "code",
   "execution_count": 94,
   "metadata": {},
   "outputs": [
    {
     "name": "stdout",
     "output_type": "stream",
     "text": [
      "Time 0 2 entries collected\n",
      "Time 1000 424567 entries collected\n",
      "Time 2000 759619 entries collected\n",
      "Time 3000 1300194 entries collected\n",
      "Time 4000 2028017 entries collected\n",
      "Time 5000 2493285 entries collected\n",
      "Time 6000 2888649 entries collected\n",
      "Time 7000 3257544 entries collected\n",
      "Time 8000 3806747 entries collected\n"
     ]
    }
   ],
   "source": [
    "triclo_entries_to_add = []\n",
    "\n",
    "for timestamp in df['# timestamp'].unique():\n",
    "    triclo_entries_to_add.extend(get_triadic_closure_links_to_add_at_time_t(df, timestamp))\n",
    "    if timestamp%1000==0:\n",
    "        print('Time', timestamp, len(triclo_entries_to_add), 'entries collected')"
   ]
  },
  {
   "cell_type": "code",
   "execution_count": 96,
   "metadata": {},
   "outputs": [
    {
     "name": "stdout",
     "output_type": "stream",
     "text": [
      "3855139 7665833 3810694\n"
     ]
    }
   ],
   "source": [
    "triclo_entries_to_add_df = pd.DataFrame.from_records(triclo_entries_to_add)\n",
    "df_triclo = pd.concat([df, triclo_entries_to_add_df], ignore_index = True)\n",
    "\n",
    "print(len(df), len(df_triclo), len(df_triclo)-len(df))"
   ]
  },
  {
   "cell_type": "code",
   "execution_count": 97,
   "metadata": {},
   "outputs": [],
   "source": [
    "output_path = \"temp/\"\n",
    "fname = \"CNS_bluetooth_thresholded_filled_nosingletons_and_triclo.csv.gz\"\n",
    "df_triclo.to_csv(output_path+fname, sep=',', header=True, index=False, compression='gzip')"
   ]
  },
  {
   "cell_type": "markdown",
   "metadata": {},
   "source": [
    "## What if we put a threshold on the RSSI for the triadic closure? We can do it a posteriori"
   ]
  },
  {
   "cell_type": "code",
   "execution_count": 100,
   "metadata": {},
   "outputs": [
    {
     "name": "stdout",
     "output_type": "stream",
     "text": [
      "7665833\n"
     ]
    }
   ],
   "source": [
    "#Reading the dataframe with closed triangles \n",
    "input_path = \"temp/\"\n",
    "fname = \"CNS_bluetooth_thresholded_filled_nosingletons_and_triclo.csv.gz\"\n",
    "df_triclo = pd.read_csv(input_path+fname)\n",
    "print(len(df_triclo))"
   ]
  },
  {
   "cell_type": "code",
   "execution_count": 101,
   "metadata": {},
   "outputs": [
    {
     "name": "stdout",
     "output_type": "stream",
     "text": [
      "3855139\n"
     ]
    }
   ],
   "source": [
    "#Reading the dataframe before triadic closure\n",
    "input_path = \"temp/\"\n",
    "fname = \"CNS_bluetooth_thresholded_filled_and_nosingletons.csv.gz\"\n",
    "df = pd.read_csv(input_path+fname)\n",
    "print(len(df))"
   ]
  },
  {
   "cell_type": "code",
   "execution_count": 102,
   "metadata": {},
   "outputs": [
    {
     "name": "stdout",
     "output_type": "stream",
     "text": [
      "3810694 3810694\n"
     ]
    }
   ],
   "source": [
    "#This is the dataframe of the links added with the triadic closure\n",
    "df_tri = df_triclo.drop(df.index, axis=0, inplace=False)\n",
    "print(len(df_triclo)-len(df), len(df_tri))"
   ]
  },
  {
   "cell_type": "markdown",
   "metadata": {},
   "source": [
    "How many triangles are we closing for each RSSI threshold?"
   ]
  },
  {
   "cell_type": "code",
   "execution_count": 106,
   "metadata": {},
   "outputs": [],
   "source": [
    "triclo_thresholds = np.arange(-90, -30, 5)\n",
    "num_added_links = [len(df_tri[df_tri['rssi']>=th]) for th in triclo_thresholds]"
   ]
  },
  {
   "cell_type": "code",
   "execution_count": 108,
   "metadata": {},
   "outputs": [
    {
     "data": {
      "image/png": "[encoded data removed]",
      "text/plain": [
       "<Figure size 432x324 with 1 Axes>"
      ]
     },
     "metadata": {
      "needs_background": "light"
     },
     "output_type": "display_data"
    }
   ],
   "source": [
    "plt.figure(figsize=(6, 4.5))\n",
    "\n",
    "ax = plt.subplot(111)\n",
    "\n",
    "ax.plot(triclo_thresholds, num_added_links, 'o-', mec='black', ms=8, lw=4, clip_on=False)\n",
    "\n",
    "ax.set_xlabel('RSSI threshold for triadic closure, $\\phi$', size=18)\n",
    "ax.set_ylabel('Number of closed triangles', size=18)\n",
    "ax.tick_params(axis='both', which='major', labelsize=18)\n",
    "\n",
    "ax.set_yscale('log')\n",
    "ax.set_ylim(1e0,1e7)\n",
    "ax.set_yticks([1e0,1e1,1e2,1e3,1e4,1e5,1e6,1e7])\n",
    "#ax.set_xlim(0, users_int_df['# timestamp'].max())\n",
    "#ax.set_ylim(0, N)\n",
    "ax.set_xticks([-90,-80,-70,-60,-50,-40,-30])\n",
    "\n",
    "ax.spines['right'].set_visible(False)\n",
    "ax.spines['top'].set_visible(False)\n",
    "ax.yaxis.set_ticks_position('left')\n",
    "ax.xaxis.set_ticks_position('bottom')\n",
    "\n",
    "########################################################################\n",
    "plt.tight_layout()\n",
    "\n",
    "filename = \"figures/CNS_scaling_triclo_RSSI.pdf\"\n",
    "plt.savefig(filename, bbox_inches='tight', dpi=150, transparent=False, facecolor='white')"
   ]
  },
  {
   "cell_type": "markdown",
   "metadata": {},
   "source": [
    "Saving the dataframes with the thresholded triadic closure. Also converting to datetime."
   ]
  },
  {
   "cell_type": "code",
   "execution_count": 109,
   "metadata": {},
   "outputs": [],
   "source": [
    "import datetime as dt\n",
    "\n",
    "#Creating a dictionary that maps the int. timestamp into datetime.\n",
    "#We know that is starts on a Sunday, we infer at Midnight from the patterns.\n",
    "#We know the year, 2013, we arbitrary set the day, which is the first Monday of March (during the School term).\n",
    "\n",
    "starting_index_t = 0\n",
    "ending_index_t = df_triclo['# timestamp'].astype(int).max()\n",
    "\n",
    "starting_dt = dt.datetime(year=2013, month=3, day=3, hour=0, minute=0)\n",
    "Delta_t = dt.timedelta(minutes=5)\n",
    "current_dt = starting_dt\n",
    "\n",
    "dt_converter = {}\n",
    "\n",
    "for index_t in range(starting_index_t, ending_index_t+1):\n",
    "    dt_converter[index_t] = current_dt\n",
    "    current_dt += Delta_t"
   ]
  },
  {
   "cell_type": "code",
   "execution_count": 110,
   "metadata": {},
   "outputs": [
    {
     "name": "stdout",
     "output_type": "stream",
     "text": [
      "-90\n",
      "-85\n",
      "-80\n",
      "-75\n",
      "-70\n",
      "-65\n",
      "-60\n",
      "-55\n",
      "-50\n",
      "-45\n",
      "-40\n",
      "-35\n"
     ]
    }
   ],
   "source": [
    "import datetime as dt\n",
    "\n",
    "triclo_thresholds = [-90, -85, -80, -75, -70, -65, -60, -55, -50, -45, -40, -35]\n",
    "num_added_links = []\n",
    "\n",
    "\n",
    "for th in triclo_thresholds:\n",
    "    print(th)\n",
    "    #Dataframe with triclo given the selected threshold\n",
    "    df_triclo_th = pd.concat([df, df_tri[df_tri['rssi']>=th]])\n",
    "    \n",
    "    #Converting timestamp to int\n",
    "    df_triclo_th['# timestamp'] = df_triclo_th['# timestamp'].astype(int)\n",
    "\n",
    "    #Converting to datetime\n",
    "    df_triclo_th['datetime'] = df_triclo_th['# timestamp'].apply(lambda x: dt_converter[x])\n",
    "    df_triclo_th['DoW'] = df_triclo_th['datetime'].apply(lambda x: x.strftime('%A'))\n",
    "    df_triclo_th['hour'] = df_triclo_th['datetime'].apply(lambda x: x.hour)\n",
    "    \n",
    "    #Saving \n",
    "    output_path = \"temp/\"\n",
    "    fname = \"CNS_bluetooth_thresholded_filled_nosingletons_and_triclo_thr%i_datetime.csv.gz\"%(abs(th))\n",
    "    df_triclo_th.to_csv(output_path+fname, sep=',', header=True, index=False, compression='gzip')"
   ]
  },
  {
   "cell_type": "markdown",
   "metadata": {},
   "source": [
    "## Selected threshold: $\\phi=-75$ [see the other notebook]\n",
    "\n",
    "### Processing again but finally adding back isolated nodes after triadic closure"
   ]
  },
  {
   "cell_type": "markdown",
   "metadata": {},
   "source": [
    "Previously, we removed interactions that lasted for 5min only. We need to check if a removed link at time t is the only interaction for one of the two nodes at that time (also considering triadic closure, after the threshold). In that case the node has to be put back, but declared as isolated."
   ]
  },
  {
   "cell_type": "code",
   "execution_count": 113,
   "metadata": {},
   "outputs": [
    {
     "data": {
      "text/plain": [
       "130935"
      ]
     },
     "execution_count": 113,
     "metadata": {},
     "output_type": "execute_result"
    }
   ],
   "source": [
    "#I first need to get the exact details of the links that I originally removed (I only saved the indices before)\n",
    "\n",
    "output_path = \"temp/\"\n",
    "fname = \"CNS_bluetooth_thresholded_and_filled.csv.gz\"\n",
    "df = pd.read_csv(output_path+fname)\n",
    "\n",
    "output_path = \"temp/\"\n",
    "fname = \"indices_to_remove.p\"\n",
    "removed_indices = pickle.load(open(output_path+fname, \"rb\" ) )\n",
    "\n",
    "removed_entries = []\n",
    "\n",
    "for ix_removed in removed_indices:\n",
    "    df_ix = df.iloc[ix_removed]\n",
    "    #These are time and IDs of the nodes of the link I removed\n",
    "    t, a, b = df_ix['# timestamp'].values[0], df_ix['user_a'].values[0], df_ix['user_b'].values[0]\n",
    "    removed_entries.append([t, a, b])\n",
    "len(removed_entries)"
   ]
  },
  {
   "cell_type": "code",
   "execution_count": 115,
   "metadata": {},
   "outputs": [
    {
     "data": {
      "text/html": [
       "<div>\n",
       "<style scoped>\n",
       "    .dataframe tbody tr th:only-of-type {\n",
       "        vertical-align: middle;\n",
       "    }\n",
       "\n",
       "    .dataframe tbody tr th {\n",
       "        vertical-align: top;\n",
       "    }\n",
       "\n",
       "    .dataframe thead th {\n",
       "        text-align: right;\n",
       "    }\n",
       "</style>\n",
       "<table border=\"1\" class=\"dataframe\">\n",
       "  <thead>\n",
       "    <tr style=\"text-align: right;\">\n",
       "      <th></th>\n",
       "      <th># timestamp</th>\n",
       "      <th>user_a</th>\n",
       "      <th>user_b</th>\n",
       "      <th>rssi</th>\n",
       "      <th>datetime</th>\n",
       "      <th>DoW</th>\n",
       "      <th>hour</th>\n",
       "    </tr>\n",
       "  </thead>\n",
       "  <tbody>\n",
       "    <tr>\n",
       "      <th>0</th>\n",
       "      <td>0</td>\n",
       "      <td>0</td>\n",
       "      <td>-1</td>\n",
       "      <td>0.0</td>\n",
       "      <td>2013-03-03 00:00:00</td>\n",
       "      <td>Sunday</td>\n",
       "      <td>0</td>\n",
       "    </tr>\n",
       "    <tr>\n",
       "      <th>1</th>\n",
       "      <td>0</td>\n",
       "      <td>1</td>\n",
       "      <td>-1</td>\n",
       "      <td>0.0</td>\n",
       "      <td>2013-03-03 00:00:00</td>\n",
       "      <td>Sunday</td>\n",
       "      <td>0</td>\n",
       "    </tr>\n",
       "    <tr>\n",
       "      <th>2</th>\n",
       "      <td>0</td>\n",
       "      <td>2</td>\n",
       "      <td>-1</td>\n",
       "      <td>0.0</td>\n",
       "      <td>2013-03-03 00:00:00</td>\n",
       "      <td>Sunday</td>\n",
       "      <td>0</td>\n",
       "    </tr>\n",
       "    <tr>\n",
       "      <th>3</th>\n",
       "      <td>0</td>\n",
       "      <td>5</td>\n",
       "      <td>-1</td>\n",
       "      <td>0.0</td>\n",
       "      <td>2013-03-03 00:00:00</td>\n",
       "      <td>Sunday</td>\n",
       "      <td>0</td>\n",
       "    </tr>\n",
       "    <tr>\n",
       "      <th>4</th>\n",
       "      <td>0</td>\n",
       "      <td>6</td>\n",
       "      <td>-1</td>\n",
       "      <td>0.0</td>\n",
       "      <td>2013-03-03 00:00:00</td>\n",
       "      <td>Sunday</td>\n",
       "      <td>0</td>\n",
       "    </tr>\n",
       "  </tbody>\n",
       "</table>\n",
       "</div>"
      ],
      "text/plain": [
       "   # timestamp  user_a  user_b  rssi             datetime     DoW  hour\n",
       "0            0       0      -1   0.0  2013-03-03 00:00:00  Sunday     0\n",
       "1            0       1      -1   0.0  2013-03-03 00:00:00  Sunday     0\n",
       "2            0       2      -1   0.0  2013-03-03 00:00:00  Sunday     0\n",
       "3            0       5      -1   0.0  2013-03-03 00:00:00  Sunday     0\n",
       "4            0       6      -1   0.0  2013-03-03 00:00:00  Sunday     0"
      ]
     },
     "execution_count": 115,
     "metadata": {},
     "output_type": "execute_result"
    }
   ],
   "source": [
    "#I now filter by triadic closure\n",
    "\n",
    "th=-75\n",
    "\n",
    "output_path = \"temp/\"\n",
    "fname = \"CNS_bluetooth_thresholded_filled_nosingletons_and_triclo_thr%i_datetime.csv.gz\"%(abs(th))\n",
    "df = pd.read_csv(output_path+fname, sep=',')\n",
    "df.head()"
   ]
  },
  {
   "cell_type": "code",
   "execution_count": 116,
   "metadata": {},
   "outputs": [
    {
     "name": "stdout",
     "output_type": "stream",
     "text": [
      "0\n",
      "1000\n",
      "2000\n",
      "3000\n",
      "4000\n",
      "5000\n",
      "6000\n",
      "7000\n",
      "8000\n",
      "9000\n",
      "10000\n",
      "11000\n",
      "12000\n",
      "13000\n",
      "14000\n",
      "15000\n",
      "16000\n",
      "17000\n",
      "18000\n",
      "19000\n",
      "20000\n",
      "21000\n",
      "22000\n",
      "23000\n",
      "24000\n",
      "25000\n",
      "26000\n",
      "27000\n",
      "28000\n",
      "29000\n",
      "30000\n",
      "31000\n",
      "32000\n",
      "33000\n",
      "34000\n",
      "35000\n",
      "36000\n",
      "37000\n",
      "38000\n",
      "39000\n",
      "40000\n",
      "41000\n",
      "42000\n",
      "43000\n",
      "44000\n",
      "45000\n",
      "46000\n",
      "47000\n",
      "48000\n",
      "49000\n",
      "50000\n",
      "51000\n",
      "52000\n",
      "53000\n",
      "54000\n",
      "55000\n",
      "56000\n",
      "57000\n",
      "58000\n",
      "59000\n",
      "60000\n",
      "61000\n",
      "62000\n",
      "63000\n",
      "64000\n",
      "65000\n",
      "66000\n",
      "67000\n",
      "68000\n",
      "69000\n",
      "70000\n",
      "71000\n",
      "72000\n",
      "73000\n",
      "74000\n",
      "75000\n",
      "76000\n",
      "77000\n",
      "78000\n",
      "79000\n",
      "80000\n",
      "81000\n",
      "82000\n",
      "83000\n",
      "84000\n",
      "85000\n",
      "86000\n",
      "87000\n",
      "88000\n",
      "89000\n",
      "90000\n",
      "91000\n",
      "92000\n",
      "93000\n",
      "94000\n",
      "95000\n",
      "96000\n",
      "97000\n",
      "98000\n",
      "99000\n",
      "100000\n",
      "101000\n",
      "102000\n",
      "103000\n",
      "104000\n",
      "105000\n",
      "106000\n",
      "107000\n",
      "108000\n",
      "109000\n",
      "110000\n",
      "111000\n",
      "112000\n",
      "113000\n",
      "114000\n",
      "115000\n",
      "116000\n",
      "117000\n",
      "118000\n",
      "119000\n",
      "120000\n",
      "121000\n",
      "122000\n",
      "123000\n",
      "124000\n",
      "125000\n",
      "126000\n",
      "127000\n",
      "128000\n",
      "129000\n",
      "130000\n"
     ]
    },
    {
     "data": {
      "text/html": [
       "<div>\n",
       "<style scoped>\n",
       "    .dataframe tbody tr th:only-of-type {\n",
       "        vertical-align: middle;\n",
       "    }\n",
       "\n",
       "    .dataframe tbody tr th {\n",
       "        vertical-align: top;\n",
       "    }\n",
       "\n",
       "    .dataframe thead th {\n",
       "        text-align: right;\n",
       "    }\n",
       "</style>\n",
       "<table border=\"1\" class=\"dataframe\">\n",
       "  <thead>\n",
       "    <tr style=\"text-align: right;\">\n",
       "      <th></th>\n",
       "      <th># timestamp</th>\n",
       "      <th>user_a</th>\n",
       "      <th>user_b</th>\n",
       "      <th>rssi</th>\n",
       "    </tr>\n",
       "  </thead>\n",
       "  <tbody>\n",
       "    <tr>\n",
       "      <th>0</th>\n",
       "      <td>4489</td>\n",
       "      <td>1</td>\n",
       "      <td>-1</td>\n",
       "      <td>0</td>\n",
       "    </tr>\n",
       "    <tr>\n",
       "      <th>1</th>\n",
       "      <td>463</td>\n",
       "      <td>5</td>\n",
       "      <td>-1</td>\n",
       "      <td>0</td>\n",
       "    </tr>\n",
       "    <tr>\n",
       "      <th>2</th>\n",
       "      <td>463</td>\n",
       "      <td>3</td>\n",
       "      <td>-1</td>\n",
       "      <td>0</td>\n",
       "    </tr>\n",
       "    <tr>\n",
       "      <th>3</th>\n",
       "      <td>2488</td>\n",
       "      <td>3</td>\n",
       "      <td>-1</td>\n",
       "      <td>0</td>\n",
       "    </tr>\n",
       "    <tr>\n",
       "      <th>4</th>\n",
       "      <td>5644</td>\n",
       "      <td>5</td>\n",
       "      <td>-1</td>\n",
       "      <td>0</td>\n",
       "    </tr>\n",
       "  </tbody>\n",
       "</table>\n",
       "</div>"
      ],
      "text/plain": [
       "   # timestamp  user_a  user_b  rssi\n",
       "0         4489       1      -1     0\n",
       "1          463       5      -1     0\n",
       "2          463       3      -1     0\n",
       "3         2488       3      -1     0\n",
       "4         5644       5      -1     0"
      ]
     },
     "execution_count": 116,
     "metadata": {},
     "output_type": "execute_result"
    }
   ],
   "source": [
    "isolated_nodes_to_add_back = []\n",
    "\n",
    "for ii, entry in enumerate(removed_entries):\n",
    "    if ii%1000==0: print(ii)\n",
    "    #These are time and IDs of the nodes of the link I removed\n",
    "    t, a, b = entry\n",
    "    #Checking all interactions of node a at time t (either as a or b)\n",
    "    df_t_a = df[(df['# timestamp']==t)&((df['user_a']==a)|(df['user_b']==a))]\n",
    "    if len(df_t_a)==0: #it means that the removed link was the only interaction for a at t\n",
    "        isolated_nodes_to_add_back.append([t, a, -1, 0])\n",
    "    #Checking all interactions of node b at time t (either as a or b)\n",
    "    df_t_b = df[(df['# timestamp']==t)&((df['user_a']==b)|(df['user_b']==b))]\n",
    "    if len(df_t_b)==0: #it means that the removed link was the only interaction for b at t\n",
    "        isolated_nodes_to_add_back.append([t, b, -1, 0])\n",
    "\n",
    "df_isolated_nodes_to_add_back = pd.DataFrame(isolated_nodes_to_add_back,\n",
    "                                            columns=['# timestamp','user_a','user_b','rssi'])\n",
    "df_isolated_nodes_to_add_back.head()"
   ]
  },
  {
   "cell_type": "code",
   "execution_count": 117,
   "metadata": {},
   "outputs": [
    {
     "name": "stdout",
     "output_type": "stream",
     "text": [
      "44941\n"
     ]
    }
   ],
   "source": [
    "print(len(df_isolated_nodes_to_add_back))"
   ]
  },
  {
   "cell_type": "markdown",
   "metadata": {},
   "source": [
    "Adding to these new entry the datetime information as well"
   ]
  },
  {
   "cell_type": "code",
   "execution_count": 118,
   "metadata": {},
   "outputs": [
    {
     "data": {
      "text/html": [
       "<div>\n",
       "<style scoped>\n",
       "    .dataframe tbody tr th:only-of-type {\n",
       "        vertical-align: middle;\n",
       "    }\n",
       "\n",
       "    .dataframe tbody tr th {\n",
       "        vertical-align: top;\n",
       "    }\n",
       "\n",
       "    .dataframe thead th {\n",
       "        text-align: right;\n",
       "    }\n",
       "</style>\n",
       "<table border=\"1\" class=\"dataframe\">\n",
       "  <thead>\n",
       "    <tr style=\"text-align: right;\">\n",
       "      <th></th>\n",
       "      <th># timestamp</th>\n",
       "      <th>user_a</th>\n",
       "      <th>user_b</th>\n",
       "      <th>rssi</th>\n",
       "      <th>datetime</th>\n",
       "      <th>DoW</th>\n",
       "      <th>hour</th>\n",
       "    </tr>\n",
       "  </thead>\n",
       "  <tbody>\n",
       "    <tr>\n",
       "      <th>0</th>\n",
       "      <td>4489</td>\n",
       "      <td>1</td>\n",
       "      <td>-1</td>\n",
       "      <td>0</td>\n",
       "      <td>2013-03-18 14:05:00</td>\n",
       "      <td>Monday</td>\n",
       "      <td>14</td>\n",
       "    </tr>\n",
       "    <tr>\n",
       "      <th>1</th>\n",
       "      <td>463</td>\n",
       "      <td>5</td>\n",
       "      <td>-1</td>\n",
       "      <td>0</td>\n",
       "      <td>2013-03-04 14:35:00</td>\n",
       "      <td>Monday</td>\n",
       "      <td>14</td>\n",
       "    </tr>\n",
       "    <tr>\n",
       "      <th>2</th>\n",
       "      <td>463</td>\n",
       "      <td>3</td>\n",
       "      <td>-1</td>\n",
       "      <td>0</td>\n",
       "      <td>2013-03-04 14:35:00</td>\n",
       "      <td>Monday</td>\n",
       "      <td>14</td>\n",
       "    </tr>\n",
       "    <tr>\n",
       "      <th>3</th>\n",
       "      <td>2488</td>\n",
       "      <td>3</td>\n",
       "      <td>-1</td>\n",
       "      <td>0</td>\n",
       "      <td>2013-03-11 15:20:00</td>\n",
       "      <td>Monday</td>\n",
       "      <td>15</td>\n",
       "    </tr>\n",
       "    <tr>\n",
       "      <th>4</th>\n",
       "      <td>5644</td>\n",
       "      <td>5</td>\n",
       "      <td>-1</td>\n",
       "      <td>0</td>\n",
       "      <td>2013-03-22 14:20:00</td>\n",
       "      <td>Friday</td>\n",
       "      <td>14</td>\n",
       "    </tr>\n",
       "  </tbody>\n",
       "</table>\n",
       "</div>"
      ],
      "text/plain": [
       "   # timestamp  user_a  user_b  rssi            datetime     DoW  hour\n",
       "0         4489       1      -1     0 2013-03-18 14:05:00  Monday    14\n",
       "1          463       5      -1     0 2013-03-04 14:35:00  Monday    14\n",
       "2          463       3      -1     0 2013-03-04 14:35:00  Monday    14\n",
       "3         2488       3      -1     0 2013-03-11 15:20:00  Monday    15\n",
       "4         5644       5      -1     0 2013-03-22 14:20:00  Friday    14"
      ]
     },
     "execution_count": 118,
     "metadata": {},
     "output_type": "execute_result"
    }
   ],
   "source": [
    "#Converting timestamp to int\n",
    "df_isolated_nodes_to_add_back['# timestamp'] = df_isolated_nodes_to_add_back['# timestamp'].astype(int)\n",
    "\n",
    "#Converting to datetime\n",
    "df_isolated_nodes_to_add_back['datetime'] = df_isolated_nodes_to_add_back['# timestamp'].apply(lambda x: dt_converter[x])\n",
    "df_isolated_nodes_to_add_back['DoW'] = df_isolated_nodes_to_add_back['datetime'].apply(lambda x: x.strftime('%A'))\n",
    "df_isolated_nodes_to_add_back['hour'] = df_isolated_nodes_to_add_back['datetime'].apply(lambda x: x.hour)\n",
    "\n",
    "df_isolated_nodes_to_add_back.head()"
   ]
  },
  {
   "cell_type": "code",
   "execution_count": 119,
   "metadata": {},
   "outputs": [],
   "source": [
    "output_path = \"temp/\"\n",
    "fname = \"CNS_isolated_nodes_to_add_back_after_triclo_thr%i_datetime.csv.gz\"%(abs(th))\n",
    "df_isolated_nodes_to_add_back.to_csv(output_path+fname, sep=',', header=True, index=False, compression='gzip')"
   ]
  },
  {
   "cell_type": "markdown",
   "metadata": {},
   "source": [
    "Finally merging everything!"
   ]
  },
  {
   "cell_type": "code",
   "execution_count": 129,
   "metadata": {},
   "outputs": [
    {
     "data": {
      "text/html": [
       "<div>\n",
       "<style scoped>\n",
       "    .dataframe tbody tr th:only-of-type {\n",
       "        vertical-align: middle;\n",
       "    }\n",
       "\n",
       "    .dataframe tbody tr th {\n",
       "        vertical-align: top;\n",
       "    }\n",
       "\n",
       "    .dataframe thead th {\n",
       "        text-align: right;\n",
       "    }\n",
       "</style>\n",
       "<table border=\"1\" class=\"dataframe\">\n",
       "  <thead>\n",
       "    <tr style=\"text-align: right;\">\n",
       "      <th></th>\n",
       "      <th># timestamp</th>\n",
       "      <th>user_a</th>\n",
       "      <th>user_b</th>\n",
       "      <th>rssi</th>\n",
       "      <th>datetime</th>\n",
       "      <th>DoW</th>\n",
       "      <th>hour</th>\n",
       "    </tr>\n",
       "  </thead>\n",
       "  <tbody>\n",
       "    <tr>\n",
       "      <th>0</th>\n",
       "      <td>4489</td>\n",
       "      <td>1</td>\n",
       "      <td>-1</td>\n",
       "      <td>0</td>\n",
       "      <td>2013-03-18 14:05:00</td>\n",
       "      <td>Monday</td>\n",
       "      <td>14</td>\n",
       "    </tr>\n",
       "    <tr>\n",
       "      <th>1</th>\n",
       "      <td>463</td>\n",
       "      <td>5</td>\n",
       "      <td>-1</td>\n",
       "      <td>0</td>\n",
       "      <td>2013-03-04 14:35:00</td>\n",
       "      <td>Monday</td>\n",
       "      <td>14</td>\n",
       "    </tr>\n",
       "    <tr>\n",
       "      <th>2</th>\n",
       "      <td>463</td>\n",
       "      <td>3</td>\n",
       "      <td>-1</td>\n",
       "      <td>0</td>\n",
       "      <td>2013-03-04 14:35:00</td>\n",
       "      <td>Monday</td>\n",
       "      <td>14</td>\n",
       "    </tr>\n",
       "    <tr>\n",
       "      <th>3</th>\n",
       "      <td>2488</td>\n",
       "      <td>3</td>\n",
       "      <td>-1</td>\n",
       "      <td>0</td>\n",
       "      <td>2013-03-11 15:20:00</td>\n",
       "      <td>Monday</td>\n",
       "      <td>15</td>\n",
       "    </tr>\n",
       "    <tr>\n",
       "      <th>4</th>\n",
       "      <td>5644</td>\n",
       "      <td>5</td>\n",
       "      <td>-1</td>\n",
       "      <td>0</td>\n",
       "      <td>2013-03-22 14:20:00</td>\n",
       "      <td>Friday</td>\n",
       "      <td>14</td>\n",
       "    </tr>\n",
       "  </tbody>\n",
       "</table>\n",
       "</div>"
      ],
      "text/plain": [
       "   # timestamp  user_a  user_b  rssi             datetime     DoW  hour\n",
       "0         4489       1      -1     0  2013-03-18 14:05:00  Monday    14\n",
       "1          463       5      -1     0  2013-03-04 14:35:00  Monday    14\n",
       "2          463       3      -1     0  2013-03-04 14:35:00  Monday    14\n",
       "3         2488       3      -1     0  2013-03-11 15:20:00  Monday    15\n",
       "4         5644       5      -1     0  2013-03-22 14:20:00  Friday    14"
      ]
     },
     "execution_count": 129,
     "metadata": {},
     "output_type": "execute_result"
    }
   ],
   "source": [
    "th=-75\n",
    "input_path = \"temp/\"\n",
    "fname = \"CNS_isolated_nodes_to_add_back_after_triclo_thr%i_datetime.csv.gz\"%(abs(th))\n",
    "df_isolated_nodes_to_add_back = pd.read_csv(input_path+fname)\n",
    "df_isolated_nodes_to_add_back.head()"
   ]
  },
  {
   "cell_type": "code",
   "execution_count": 130,
   "metadata": {},
   "outputs": [
    {
     "data": {
      "text/html": [
       "<div>\n",
       "<style scoped>\n",
       "    .dataframe tbody tr th:only-of-type {\n",
       "        vertical-align: middle;\n",
       "    }\n",
       "\n",
       "    .dataframe tbody tr th {\n",
       "        vertical-align: top;\n",
       "    }\n",
       "\n",
       "    .dataframe thead th {\n",
       "        text-align: right;\n",
       "    }\n",
       "</style>\n",
       "<table border=\"1\" class=\"dataframe\">\n",
       "  <thead>\n",
       "    <tr style=\"text-align: right;\">\n",
       "      <th></th>\n",
       "      <th># timestamp</th>\n",
       "      <th>user_a</th>\n",
       "      <th>user_b</th>\n",
       "      <th>rssi</th>\n",
       "      <th>datetime</th>\n",
       "      <th>DoW</th>\n",
       "      <th>hour</th>\n",
       "    </tr>\n",
       "  </thead>\n",
       "  <tbody>\n",
       "    <tr>\n",
       "      <th>0</th>\n",
       "      <td>0</td>\n",
       "      <td>0</td>\n",
       "      <td>-1</td>\n",
       "      <td>0.0</td>\n",
       "      <td>2013-03-03 00:00:00</td>\n",
       "      <td>Sunday</td>\n",
       "      <td>0</td>\n",
       "    </tr>\n",
       "    <tr>\n",
       "      <th>1</th>\n",
       "      <td>0</td>\n",
       "      <td>1</td>\n",
       "      <td>-1</td>\n",
       "      <td>0.0</td>\n",
       "      <td>2013-03-03 00:00:00</td>\n",
       "      <td>Sunday</td>\n",
       "      <td>0</td>\n",
       "    </tr>\n",
       "    <tr>\n",
       "      <th>2</th>\n",
       "      <td>0</td>\n",
       "      <td>2</td>\n",
       "      <td>-1</td>\n",
       "      <td>0.0</td>\n",
       "      <td>2013-03-03 00:00:00</td>\n",
       "      <td>Sunday</td>\n",
       "      <td>0</td>\n",
       "    </tr>\n",
       "    <tr>\n",
       "      <th>3</th>\n",
       "      <td>0</td>\n",
       "      <td>5</td>\n",
       "      <td>-1</td>\n",
       "      <td>0.0</td>\n",
       "      <td>2013-03-03 00:00:00</td>\n",
       "      <td>Sunday</td>\n",
       "      <td>0</td>\n",
       "    </tr>\n",
       "    <tr>\n",
       "      <th>4</th>\n",
       "      <td>0</td>\n",
       "      <td>6</td>\n",
       "      <td>-1</td>\n",
       "      <td>0.0</td>\n",
       "      <td>2013-03-03 00:00:00</td>\n",
       "      <td>Sunday</td>\n",
       "      <td>0</td>\n",
       "    </tr>\n",
       "  </tbody>\n",
       "</table>\n",
       "</div>"
      ],
      "text/plain": [
       "   # timestamp  user_a  user_b  rssi             datetime     DoW  hour\n",
       "0            0       0      -1   0.0  2013-03-03 00:00:00  Sunday     0\n",
       "1            0       1      -1   0.0  2013-03-03 00:00:00  Sunday     0\n",
       "2            0       2      -1   0.0  2013-03-03 00:00:00  Sunday     0\n",
       "3            0       5      -1   0.0  2013-03-03 00:00:00  Sunday     0\n",
       "4            0       6      -1   0.0  2013-03-03 00:00:00  Sunday     0"
      ]
     },
     "execution_count": 130,
     "metadata": {},
     "output_type": "execute_result"
    }
   ],
   "source": [
    "th=-75\n",
    "input_path = \"temp/\"\n",
    "fname = \"CNS_bluetooth_thresholded_filled_nosingletons_and_triclo_thr%i_datetime.csv.gz\"%(abs(th))\n",
    "df = pd.read_csv(input_path+fname, sep=',')\n",
    "df.head()"
   ]
  },
  {
   "cell_type": "code",
   "execution_count": 131,
   "metadata": {},
   "outputs": [
    {
     "name": "stdout",
     "output_type": "stream",
     "text": [
      "4004139\n",
      "3991474\n"
     ]
    },
    {
     "data": {
      "text/html": [
       "<div>\n",
       "<style scoped>\n",
       "    .dataframe tbody tr th:only-of-type {\n",
       "        vertical-align: middle;\n",
       "    }\n",
       "\n",
       "    .dataframe tbody tr th {\n",
       "        vertical-align: top;\n",
       "    }\n",
       "\n",
       "    .dataframe thead th {\n",
       "        text-align: right;\n",
       "    }\n",
       "</style>\n",
       "<table border=\"1\" class=\"dataframe\">\n",
       "  <thead>\n",
       "    <tr style=\"text-align: right;\">\n",
       "      <th></th>\n",
       "      <th># timestamp</th>\n",
       "      <th>user_a</th>\n",
       "      <th>user_b</th>\n",
       "      <th>rssi</th>\n",
       "      <th>datetime</th>\n",
       "      <th>DoW</th>\n",
       "      <th>hour</th>\n",
       "    </tr>\n",
       "  </thead>\n",
       "  <tbody>\n",
       "    <tr>\n",
       "      <th>0</th>\n",
       "      <td>0</td>\n",
       "      <td>0</td>\n",
       "      <td>-1</td>\n",
       "      <td>0</td>\n",
       "      <td>2013-03-03 00:00:00</td>\n",
       "      <td>Sunday</td>\n",
       "      <td>0</td>\n",
       "    </tr>\n",
       "    <tr>\n",
       "      <th>1</th>\n",
       "      <td>0</td>\n",
       "      <td>1</td>\n",
       "      <td>-1</td>\n",
       "      <td>0</td>\n",
       "      <td>2013-03-03 00:00:00</td>\n",
       "      <td>Sunday</td>\n",
       "      <td>0</td>\n",
       "    </tr>\n",
       "    <tr>\n",
       "      <th>2</th>\n",
       "      <td>0</td>\n",
       "      <td>2</td>\n",
       "      <td>-1</td>\n",
       "      <td>0</td>\n",
       "      <td>2013-03-03 00:00:00</td>\n",
       "      <td>Sunday</td>\n",
       "      <td>0</td>\n",
       "    </tr>\n",
       "    <tr>\n",
       "      <th>3</th>\n",
       "      <td>0</td>\n",
       "      <td>5</td>\n",
       "      <td>-1</td>\n",
       "      <td>0</td>\n",
       "      <td>2013-03-03 00:00:00</td>\n",
       "      <td>Sunday</td>\n",
       "      <td>0</td>\n",
       "    </tr>\n",
       "    <tr>\n",
       "      <th>4</th>\n",
       "      <td>0</td>\n",
       "      <td>6</td>\n",
       "      <td>-1</td>\n",
       "      <td>0</td>\n",
       "      <td>2013-03-03 00:00:00</td>\n",
       "      <td>Sunday</td>\n",
       "      <td>0</td>\n",
       "    </tr>\n",
       "  </tbody>\n",
       "</table>\n",
       "</div>"
      ],
      "text/plain": [
       "   # timestamp  user_a  user_b  rssi             datetime     DoW  hour\n",
       "0            0       0      -1     0  2013-03-03 00:00:00  Sunday     0\n",
       "1            0       1      -1     0  2013-03-03 00:00:00  Sunday     0\n",
       "2            0       2      -1     0  2013-03-03 00:00:00  Sunday     0\n",
       "3            0       5      -1     0  2013-03-03 00:00:00  Sunday     0\n",
       "4            0       6      -1     0  2013-03-03 00:00:00  Sunday     0"
      ]
     },
     "execution_count": 131,
     "metadata": {},
     "output_type": "execute_result"
    }
   ],
   "source": [
    "#Merging\n",
    "final_df = pd.concat([df, df_isolated_nodes_to_add_back])\n",
    "print(len(final_df))\n",
    "\n",
    "#Just for safety, removing duplicates\n",
    "final_df = final_df.drop_duplicates(subset=['# timestamp', 'user_a', 'user_b', 'rssi'])\n",
    "print(len(final_df))\n",
    "\n",
    "#Fixing dtypes\n",
    "final_df['user_a'] = final_df['user_a'].astype(int)\n",
    "final_df['user_b'] = final_df['user_b'].astype(int)\n",
    "final_df['rssi'] = final_df['rssi'].astype(int)\n",
    "\n",
    "final_df.head()"
   ]
  },
  {
   "cell_type": "code",
   "execution_count": 132,
   "metadata": {},
   "outputs": [],
   "source": [
    "output_path = \"../data-processed/CNS/\"\n",
    "fname = \"CNS_bluetooth_processed.csv.gz\"\n",
    "final_df.to_csv(output_path+fname, sep=',', header=True, index=False, compression='gzip')"
   ]
  }
 ],
 "metadata": {
  "kernelspec": {
   "display_name": "Python 3 (ipykernel)",
   "language": "python",
   "name": "python3"
  },
  "language_info": {
   "codemirror_mode": {
    "name": "ipython",
    "version": 3
   },
   "file_extension": ".py",
   "mimetype": "text/x-python",
   "name": "python",
   "nbconvert_exporter": "python",
   "pygments_lexer": "ipython3",
   "version": "3.10.2"
  }
 },
 "nbformat": 4,
 "nbformat_minor": 4
}

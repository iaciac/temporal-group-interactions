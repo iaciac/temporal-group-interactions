{
 "cells": [
  {
   "cell_type": "code",
   "execution_count": 4,
   "id": "505a1c75",
   "metadata": {},
   "outputs": [],
   "source": [
    "import sys\n",
    "import os\n",
    "import pandas as pd\n",
    "import pickle\n",
    "\n",
    "sys.path.append(\"../code/\")\n",
    "from model import read_edgelists_from_df\n",
    "from model_analysis import get_group_durations, get_group_times\n",
    "from model_analysis import get_dis_agg_matrices, get_full_dis_agg_matrices, dis_agg_matrix_to_df\n",
    "from utils import get_cumulative_Gs_from_Hs, get_groups_dict_from_Hs\n",
    "from data_analysis import measure_social_memory, get_interevent_times"
   ]
  },
  {
   "cell_type": "markdown",
   "id": "634c6afd",
   "metadata": {},
   "source": [
    "Reading the dataframe with the parameters and simulation IDs"
   ]
  },
  {
   "cell_type": "code",
   "execution_count": 2,
   "id": "497cf975",
   "metadata": {},
   "outputs": [
    {
     "data": {
      "text/html": [
       "<div>\n",
       "<style scoped>\n",
       "    .dataframe tbody tr th:only-of-type {\n",
       "        vertical-align: middle;\n",
       "    }\n",
       "\n",
       "    .dataframe tbody tr th {\n",
       "        vertical-align: top;\n",
       "    }\n",
       "\n",
       "    .dataframe thead th {\n",
       "        text-align: right;\n",
       "    }\n",
       "</style>\n",
       "<table border=\"1\" class=\"dataframe\">\n",
       "  <thead>\n",
       "    <tr style=\"text-align: right;\">\n",
       "      <th></th>\n",
       "      <th>N</th>\n",
       "      <th>t_max</th>\n",
       "      <th>beta</th>\n",
       "      <th>alpha</th>\n",
       "      <th>n0</th>\n",
       "      <th>L</th>\n",
       "      <th>epsilon</th>\n",
       "    </tr>\n",
       "    <tr>\n",
       "      <th>pars_id</th>\n",
       "      <th></th>\n",
       "      <th></th>\n",
       "      <th></th>\n",
       "      <th></th>\n",
       "      <th></th>\n",
       "      <th></th>\n",
       "      <th></th>\n",
       "    </tr>\n",
       "  </thead>\n",
       "  <tbody>\n",
       "    <tr>\n",
       "      <th>0</th>\n",
       "      <td>700</td>\n",
       "      <td>2000</td>\n",
       "      <td>0.8</td>\n",
       "      <td>0.05</td>\n",
       "      <td>3.0</td>\n",
       "      <td>1.0</td>\n",
       "      <td>1</td>\n",
       "    </tr>\n",
       "    <tr>\n",
       "      <th>1</th>\n",
       "      <td>700</td>\n",
       "      <td>2000</td>\n",
       "      <td>0.8</td>\n",
       "      <td>0.05</td>\n",
       "      <td>3.0</td>\n",
       "      <td>1.0</td>\n",
       "      <td>5</td>\n",
       "    </tr>\n",
       "    <tr>\n",
       "      <th>2</th>\n",
       "      <td>700</td>\n",
       "      <td>2000</td>\n",
       "      <td>0.8</td>\n",
       "      <td>0.05</td>\n",
       "      <td>3.0</td>\n",
       "      <td>1.0</td>\n",
       "      <td>10</td>\n",
       "    </tr>\n",
       "    <tr>\n",
       "      <th>3</th>\n",
       "      <td>700</td>\n",
       "      <td>2000</td>\n",
       "      <td>0.8</td>\n",
       "      <td>0.05</td>\n",
       "      <td>3.0</td>\n",
       "      <td>1.0</td>\n",
       "      <td>15</td>\n",
       "    </tr>\n",
       "    <tr>\n",
       "      <th>4</th>\n",
       "      <td>700</td>\n",
       "      <td>2000</td>\n",
       "      <td>0.8</td>\n",
       "      <td>0.05</td>\n",
       "      <td>3.0</td>\n",
       "      <td>1.0</td>\n",
       "      <td>20</td>\n",
       "    </tr>\n",
       "  </tbody>\n",
       "</table>\n",
       "</div>"
      ],
      "text/plain": [
       "           N  t_max  beta  alpha   n0    L  epsilon\n",
       "pars_id                                            \n",
       "0        700   2000   0.8   0.05  3.0  1.0        1\n",
       "1        700   2000   0.8   0.05  3.0  1.0        5\n",
       "2        700   2000   0.8   0.05  3.0  1.0       10\n",
       "3        700   2000   0.8   0.05  3.0  1.0       15\n",
       "4        700   2000   0.8   0.05  3.0  1.0       20"
      ]
     },
     "execution_count": 2,
     "metadata": {},
     "output_type": "execute_result"
    }
   ],
   "source": [
    "#Reading the parameter dataframe\n",
    "PATH = 'results/'\n",
    "\n",
    "pars_df = pd.read_csv(PATH+'parameters.csv')\n",
    "pars_df.set_index('pars_id', inplace=True)\n",
    "pars_df.head()"
   ]
  },
  {
   "cell_type": "markdown",
   "id": "5eea36bc",
   "metadata": {},
   "source": [
    "Selecting the ID associated to the best fit"
   ]
  },
  {
   "cell_type": "code",
   "execution_count": 3,
   "id": "07651493",
   "metadata": {},
   "outputs": [],
   "source": [
    "selected_IDs = [169]"
   ]
  },
  {
   "cell_type": "markdown",
   "id": "cc530d1a",
   "metadata": {},
   "source": [
    "## Computing and saving group duration distributions"
   ]
  },
  {
   "cell_type": "code",
   "execution_count": 8,
   "id": "c2b50c3b",
   "metadata": {},
   "outputs": [
    {
     "name": "stdout",
     "output_type": "stream",
     "text": [
      "169\n",
      "read...\n"
     ]
    }
   ],
   "source": [
    "#Input\n",
    "IN_PATH = 'results/'\n",
    "\n",
    "#Output\n",
    "OUT_PATH = 'results-gduration/'\n",
    "if not os.path.exists(OUT_PATH):\n",
    "    os.makedirs(OUT_PATH)\n",
    "    \n",
    "for ID in selected_IDs:\n",
    "    print(ID)\n",
    "    #Reading the realisation with the given parameters\n",
    "    Hs = read_edgelists_from_df(ID, pars_df, IN_PATH)\n",
    "    print(\"read...\")\n",
    "    #Computing group durations\n",
    "    durations = get_group_durations(Hs)\n",
    "    #Saving\n",
    "    OUT_FNAME = \"gdurations_pars_id%i.csv\"%ID\n",
    "    pickle.dump( durations, open( OUT_PATH+OUT_FNAME, \"wb\" ) )"
   ]
  },
  {
   "cell_type": "markdown",
   "id": "685d223d",
   "metadata": {},
   "source": [
    "## Computing and saving group aggregation and disaggregation matrices"
   ]
  },
  {
   "cell_type": "markdown",
   "id": "7109b122",
   "metadata": {},
   "source": [
    "First of all, I compute group times, that is for each group I save info on members and times of group creation and destruction"
   ]
  },
  {
   "cell_type": "code",
   "execution_count": 3,
   "id": "a478a578",
   "metadata": {},
   "outputs": [
    {
     "name": "stdout",
     "output_type": "stream",
     "text": [
      "169\n",
      "Read. Computing groups and time...\n",
      "Groups and times computed. Saving...\n"
     ]
    }
   ],
   "source": [
    "#Input\n",
    "IN_PATH = 'results/'\n",
    "\n",
    "#Output\n",
    "OUT_PATH = 'results-gdisagg-mat/'\n",
    "if not os.path.exists(OUT_PATH):\n",
    "    os.makedirs(OUT_PATH)\n",
    "    \n",
    "for ID in selected_IDs:\n",
    "    print(ID)\n",
    "    #Reading the realisation with the given parameters\n",
    "    Hs = read_edgelists_from_df(ID, pars_df, IN_PATH)\n",
    "    print(\"Read. Computing groups and time...\")\n",
    "    #Computing times of groups start and end\n",
    "    groups_and_times = get_group_times(Hs)\n",
    "    print(\"Groups and times computed. Saving...\")\n",
    "    #Saving\n",
    "    OUT_FNAME = \"group_times_id%i.p\"%ID\n",
    "    pickle.dump(groups_and_times, open(OUT_PATH+OUT_FNAME, \"wb\" ) )"
   ]
  },
  {
   "cell_type": "markdown",
   "id": "c8a4151a",
   "metadata": {},
   "source": [
    "Computing matrices using size of biggest sub-group and size of all sub-groups"
   ]
  },
  {
   "cell_type": "code",
   "execution_count": null,
   "id": "b50a6794",
   "metadata": {},
   "outputs": [],
   "source": [
    "#Input\n",
    "IN_PATH = 'results-gdisagg-mat/'\n",
    "\n",
    "#Output\n",
    "OUT_PATH = 'results-gdisagg-mat/'\n",
    "if not os.path.exists(OUT_PATH):\n",
    "    os.makedirs(OUT_PATH)\n",
    "\n",
    "for ID in selected_IDs:\n",
    "    print(ID)\n",
    "    #Reading the realisation with the given parameters\n",
    "    Hs = read_edgelists_from_df(ID, pars_df, 'results/')\n",
    "    #Reading times of groups start and end for the selected realisation\n",
    "    FNAME = \"group_times_id%i.p\"%ID\n",
    "    groups_and_times = pickle.load(open(IN_PATH+FNAME, \"rb\" ) )\n",
    "    print(\"Groups read. Computing matrices...\")\n",
    "    \n",
    "    #Computing dis- and aggregation matrices related to biggest sub-group\n",
    "    D, A = get_dis_agg_matrices(Hs, groups_and_times, max_k = 21, normed=True)\n",
    "    #Converting them to dataframes\n",
    "    df_D = dis_agg_matrix_to_df(D)\n",
    "    df_A = dis_agg_matrix_to_df(A)\n",
    "    print(\"Done. Saving...\")\n",
    "    #Saving\n",
    "    OUT_FNAME = \"D_id%i.csv\"%ID\n",
    "    df_D.to_csv(OUT_PATH+OUT_FNAME, header=True, index=False)   \n",
    "    OUT_FNAME = \"A_id%i.csv\"%ID\n",
    "    df_A.to_csv(OUT_PATH+OUT_FNAME, header=True, index=False)      \n",
    "    \n",
    "    #Computing dis- and aggregation matrices related to biggest sub-group\n",
    "    D, A = get_full_dis_agg_matrices(Hs, groups_and_times, max_k = 21, normed=True)\n",
    "    #Converting them to dataframes\n",
    "    df_D = dis_agg_matrix_to_df(D)\n",
    "    df_A = dis_agg_matrix_to_df(A)\n",
    "    print(\"Done. Saving...\")\n",
    "    #Saving\n",
    "    OUT_FNAME = \"Dfull_id%i.csv\"%ID\n",
    "    df_D.to_csv(OUT_PATH+OUT_FNAME, header=True, index=False)   \n",
    "    OUT_FNAME = \"Afull_id%i.csv\"%ID\n",
    "    df_A.to_csv(OUT_PATH+OUT_FNAME, header=True, index=False)            "
   ]
  },
  {
   "cell_type": "markdown",
   "id": "82d702d1",
   "metadata": {},
   "source": [
    "## Computing and saving \"social memory\"\n",
    "I want to measure the density of known nodes in the group each node is chosing (when changing) compared to a random one."
   ]
  },
  {
   "cell_type": "code",
   "execution_count": null,
   "id": "0be63476",
   "metadata": {},
   "outputs": [],
   "source": [
    "IN_PATH = 'results-gdisagg-mat/'\n",
    "\n",
    "#Output\n",
    "OUT_PATH = 'results-social-memory/'\n",
    "if not os.path.exists(OUT_PATH):\n",
    "    os.makedirs(OUT_PATH)\n",
    "\n",
    "for ID in selected_IDs:\n",
    "    print(ID)\n",
    "    #Reading the realisation with the given parameters\n",
    "    Hs = read_edgelists_from_df(ID, pars_df, 'results/')\n",
    "    print(\"Hypergraphs read.\")\n",
    "    #Reading times of groups start and end for the selected realisation\n",
    "    FNAME = \"group_times_id%i.p\"%ID\n",
    "    groups_and_times = pickle.load(open(IN_PATH+FNAME, \"rb\" ) )\n",
    "    print(\"Groups and times read.\")\n",
    "    #Computing the cumulative networks of contacts\n",
    "    #To do this I need to convert Hs from a list to a dict indexed by time\n",
    "    Hs = {k:v for k, v in enumerate(Hs)}\n",
    "    Gs = get_cumulative_Gs_from_Hs(Hs)\n",
    "    print(\"Cumulative contact graphs computed.\")\n",
    "    #I will also need the dictionary of groups at each time\n",
    "    groups_at_t_dict = get_groups_dict_from_Hs(Hs)\n",
    "    #Measuring 'social memory' dataframe\n",
    "    memory_df = measure_social_memory(Hs, groups_at_t_dict, Gs, groups_and_times)\n",
    "    print(\"Social memory dataframe computed. Saving...\")\n",
    "    #Saving\n",
    "    OUT_FNAME = \"social_memory_id%i.csv.gz\"%ID\n",
    "    memory_df.to_csv(OUT_PATH+OUT_FNAME, header=True, index=False, compression=\"gzip\")            "
   ]
  },
  {
   "cell_type": "markdown",
   "id": "78b81372",
   "metadata": {},
   "source": [
    "## Computing and saving inter-event times"
   ]
  },
  {
   "cell_type": "code",
   "execution_count": 7,
   "id": "bbffc406",
   "metadata": {},
   "outputs": [
    {
     "name": "stdout",
     "output_type": "stream",
     "text": [
      "169\n",
      "Groups and times read.\n",
      "Interevent times computed. Saving...\n"
     ]
    }
   ],
   "source": [
    "IN_PATH = 'results-gdisagg-mat/'\n",
    "\n",
    "#Output\n",
    "OUT_PATH = 'results-gduration/'\n",
    "if not os.path.exists(OUT_PATH):\n",
    "    os.makedirs(OUT_PATH)\n",
    "\n",
    "for ID in selected_IDs:\n",
    "    print(ID)\n",
    "    #Reading times of groups start and end for the selected realisation\n",
    "    FNAME = \"group_times_id%i.p\"%ID\n",
    "    groups_and_times = pickle.load(open(IN_PATH+FNAME, \"rb\" ) )\n",
    "    print(\"Groups and times read.\")\n",
    "    interevent_times = get_interevent_times(groups_and_times)\n",
    "    print(\"Interevent times computed. Saving...\")\n",
    "    #Saving\n",
    "    OUT_FNAME = \"interevent_times_id%i.p\"%ID\n",
    "    pickle.dump( interevent_times, open( OUT_PATH+OUT_FNAME, \"wb\" ) )"
   ]
  }
 ],
 "metadata": {
  "kernelspec": {
   "display_name": "Python [conda env:pyenv] *",
   "language": "python",
   "name": "conda-env-pyenv-py"
  },
  "language_info": {
   "codemirror_mode": {
    "name": "ipython",
    "version": 3
   },
   "file_extension": ".py",
   "mimetype": "text/x-python",
   "name": "python",
   "nbconvert_exporter": "python",
   "pygments_lexer": "ipython3",
   "version": "3.10.2"
  }
 },
 "nbformat": 4,
 "nbformat_minor": 5
}

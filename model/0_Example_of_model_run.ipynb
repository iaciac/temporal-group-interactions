{
 "cells": [
  {
   "cell_type": "code",
   "execution_count": 1,
   "id": "548f959a",
   "metadata": {},
   "outputs": [],
   "source": [
    "import pandas as pd\n",
    "import sys\n",
    "import os\n",
    "sys.path.append(\"../code/\")\n",
    "\n",
    "from model import TemporalHypergraphModel\n",
    "from model import run_from_df_and_save_edgelists, read_edgelists_from_df\n",
    "from model_analysis import group_size_dist, get_transition_matrix\n",
    "\n",
    "import matplotlib.pyplot as plt\n",
    "%matplotlib inline"
   ]
  },
  {
   "cell_type": "code",
   "execution_count": 2,
   "id": "3ee978c4",
   "metadata": {},
   "outputs": [],
   "source": [
    "#Model parameters\n",
    "pars_dict={\n",
    "    \"N\":300,\n",
    "    \"t_max\":1000,\n",
    "    \"beta\":0.8,\n",
    "    \"epsilon\":10,\n",
    "    \"alpha\":0.25,\n",
    "    \"n0\":10,\n",
    "    \"L\":1,\n",
    "    \"verbose\":False,\n",
    "    \"verbose_light\":False\n",
    "    }"
   ]
  },
  {
   "cell_type": "code",
   "execution_count": 3,
   "id": "7e112342",
   "metadata": {},
   "outputs": [],
   "source": [
    "Model = TemporalHypergraphModel()\n",
    "Model.set_parameters(pars_dict)\n",
    "Model.reset()\n",
    "\n",
    "Hs = Model.run()"
   ]
  },
  {
   "cell_type": "code",
   "execution_count": 7,
   "id": "6762ecf8",
   "metadata": {},
   "outputs": [
    {
     "data": {
      "image/png": "[encoded data removed]",
      "text/plain": [
       "<Figure size 432x288 with 1 Axes>"
      ]
     },
     "metadata": {
      "needs_background": "light"
     },
     "output_type": "display_data"
    }
   ],
   "source": [
    "ks, Ps = group_size_dist(Hs)\n",
    "plt.bar(ks, Ps)\n",
    "plt.yscale(\"log\")"
   ]
  },
  {
   "cell_type": "markdown",
   "id": "3e9edd6f",
   "metadata": {},
   "source": [
    "### How to run and save the model from a dataframe of parameters"
   ]
  },
  {
   "cell_type": "code",
   "execution_count": 3,
   "id": "9441fd1d",
   "metadata": {},
   "outputs": [
    {
     "data": {
      "text/html": [
       "<div>\n",
       "<style scoped>\n",
       "    .dataframe tbody tr th:only-of-type {\n",
       "        vertical-align: middle;\n",
       "    }\n",
       "\n",
       "    .dataframe tbody tr th {\n",
       "        vertical-align: top;\n",
       "    }\n",
       "\n",
       "    .dataframe thead th {\n",
       "        text-align: right;\n",
       "    }\n",
       "</style>\n",
       "<table border=\"1\" class=\"dataframe\">\n",
       "  <thead>\n",
       "    <tr style=\"text-align: right;\">\n",
       "      <th></th>\n",
       "      <th>N</th>\n",
       "      <th>t_max</th>\n",
       "      <th>beta</th>\n",
       "      <th>epsilon</th>\n",
       "      <th>alpha</th>\n",
       "      <th>n0</th>\n",
       "      <th>L</th>\n",
       "      <th>verbose</th>\n",
       "      <th>verbose_light</th>\n",
       "    </tr>\n",
       "  </thead>\n",
       "  <tbody>\n",
       "    <tr>\n",
       "      <th>0</th>\n",
       "      <td>300</td>\n",
       "      <td>1000</td>\n",
       "      <td>0.8</td>\n",
       "      <td>10</td>\n",
       "      <td>0.25</td>\n",
       "      <td>10</td>\n",
       "      <td>1</td>\n",
       "      <td>False</td>\n",
       "      <td>False</td>\n",
       "    </tr>\n",
       "  </tbody>\n",
       "</table>\n",
       "</div>"
      ],
      "text/plain": [
       "     N  t_max  beta  epsilon  alpha  n0  L  verbose  verbose_light\n",
       "0  300   1000   0.8       10   0.25  10  1    False          False"
      ]
     },
     "execution_count": 3,
     "metadata": {},
     "output_type": "execute_result"
    }
   ],
   "source": [
    "pars_df = pd.DataFrame.from_dict({k:[v] for k, v in pars_dict.items()})\n",
    "pars_df"
   ]
  },
  {
   "cell_type": "code",
   "execution_count": null,
   "id": "e3dffac1",
   "metadata": {},
   "outputs": [],
   "source": [
    "#Directory for results\n",
    "OUT_DIR = \"results/\"\n",
    "if not os.path.exists(OUT_DIR):\n",
    "    os.makedirs(OUT_DIR)\n",
    "    \n",
    "#Index of the selected simulation from the pars_df\n",
    "run_id = 0\n",
    "\n",
    "#Running and saving edgelists\n",
    "run_from_df_and_save_edgelists(run_id, pars_df, OUT_DIR)"
   ]
  },
  {
   "cell_type": "code",
   "execution_count": 5,
   "id": "43015865",
   "metadata": {},
   "outputs": [],
   "source": [
    "#Reading\n",
    "OUT_DIR = \"results/\"\n",
    "run_id = 0\n",
    "Hs = read_edgelists_from_df(run_id, pars_df, OUT_DIR)"
   ]
  },
  {
   "cell_type": "code",
   "execution_count": 6,
   "id": "227a4a00",
   "metadata": {},
   "outputs": [
    {
     "data": {
      "image/png": "[encoded data removed]",
      "text/plain": [
       "<Figure size 432x288 with 1 Axes>"
      ]
     },
     "metadata": {
      "needs_background": "light"
     },
     "output_type": "display_data"
    }
   ],
   "source": [
    "ks, Ps = group_size_dist(Hs)\n",
    "plt.bar(ks, Ps)\n",
    "plt.yscale(\"log\")"
   ]
  }
 ],
 "metadata": {
  "kernelspec": {
   "display_name": "Python [conda env:pyenv] *",
   "language": "python",
   "name": "conda-env-pyenv-py"
  },
  "language_info": {
   "codemirror_mode": {
    "name": "ipython",
    "version": 3
   },
   "file_extension": ".py",
   "mimetype": "text/x-python",
   "name": "python",
   "nbconvert_exporter": "python",
   "pygments_lexer": "ipython3",
   "version": "3.10.2"
  }
 },
 "nbformat": 4,
 "nbformat_minor": 5
}

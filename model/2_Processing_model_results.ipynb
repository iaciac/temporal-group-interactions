{
 "cells": [
  {
   "cell_type": "code",
   "execution_count": 1,
   "id": "505a1c75",
   "metadata": {},
   "outputs": [],
   "source": [
    "import sys\n",
    "import os\n",
    "import pandas as pd\n",
    "import pickle\n",
    "\n",
    "sys.path.append(\"../code/\")\n",
    "from model import read_edgelists_from_df\n",
    "from model_analysis import group_size_dist, get_transition_matrix, transition_matrix_to_df"
   ]
  },
  {
   "cell_type": "markdown",
   "id": "634c6afd",
   "metadata": {},
   "source": [
    "Reading the dataframe with the parameters and simulation IDs"
   ]
  },
  {
   "cell_type": "code",
   "execution_count": 2,
   "id": "497cf975",
   "metadata": {},
   "outputs": [
    {
     "data": {
      "text/html": [
       "<div>\n",
       "<style scoped>\n",
       "    .dataframe tbody tr th:only-of-type {\n",
       "        vertical-align: middle;\n",
       "    }\n",
       "\n",
       "    .dataframe tbody tr th {\n",
       "        vertical-align: top;\n",
       "    }\n",
       "\n",
       "    .dataframe thead th {\n",
       "        text-align: right;\n",
       "    }\n",
       "</style>\n",
       "<table border=\"1\" class=\"dataframe\">\n",
       "  <thead>\n",
       "    <tr style=\"text-align: right;\">\n",
       "      <th></th>\n",
       "      <th>N</th>\n",
       "      <th>t_max</th>\n",
       "      <th>beta</th>\n",
       "      <th>alpha</th>\n",
       "      <th>n0</th>\n",
       "      <th>L</th>\n",
       "      <th>epsilon</th>\n",
       "    </tr>\n",
       "    <tr>\n",
       "      <th>pars_id</th>\n",
       "      <th></th>\n",
       "      <th></th>\n",
       "      <th></th>\n",
       "      <th></th>\n",
       "      <th></th>\n",
       "      <th></th>\n",
       "      <th></th>\n",
       "    </tr>\n",
       "  </thead>\n",
       "  <tbody>\n",
       "    <tr>\n",
       "      <th>0</th>\n",
       "      <td>700</td>\n",
       "      <td>2000</td>\n",
       "      <td>0.8</td>\n",
       "      <td>0.05</td>\n",
       "      <td>3.0</td>\n",
       "      <td>1.0</td>\n",
       "      <td>1</td>\n",
       "    </tr>\n",
       "    <tr>\n",
       "      <th>1</th>\n",
       "      <td>700</td>\n",
       "      <td>2000</td>\n",
       "      <td>0.8</td>\n",
       "      <td>0.05</td>\n",
       "      <td>3.0</td>\n",
       "      <td>1.0</td>\n",
       "      <td>5</td>\n",
       "    </tr>\n",
       "    <tr>\n",
       "      <th>2</th>\n",
       "      <td>700</td>\n",
       "      <td>2000</td>\n",
       "      <td>0.8</td>\n",
       "      <td>0.05</td>\n",
       "      <td>3.0</td>\n",
       "      <td>1.0</td>\n",
       "      <td>10</td>\n",
       "    </tr>\n",
       "    <tr>\n",
       "      <th>3</th>\n",
       "      <td>700</td>\n",
       "      <td>2000</td>\n",
       "      <td>0.8</td>\n",
       "      <td>0.05</td>\n",
       "      <td>3.0</td>\n",
       "      <td>1.0</td>\n",
       "      <td>15</td>\n",
       "    </tr>\n",
       "    <tr>\n",
       "      <th>4</th>\n",
       "      <td>700</td>\n",
       "      <td>2000</td>\n",
       "      <td>0.8</td>\n",
       "      <td>0.05</td>\n",
       "      <td>3.0</td>\n",
       "      <td>1.0</td>\n",
       "      <td>20</td>\n",
       "    </tr>\n",
       "  </tbody>\n",
       "</table>\n",
       "</div>"
      ],
      "text/plain": [
       "           N  t_max  beta  alpha   n0    L  epsilon\n",
       "pars_id                                            \n",
       "0        700   2000   0.8   0.05  3.0  1.0        1\n",
       "1        700   2000   0.8   0.05  3.0  1.0        5\n",
       "2        700   2000   0.8   0.05  3.0  1.0       10\n",
       "3        700   2000   0.8   0.05  3.0  1.0       15\n",
       "4        700   2000   0.8   0.05  3.0  1.0       20"
      ]
     },
     "execution_count": 2,
     "metadata": {},
     "output_type": "execute_result"
    }
   ],
   "source": [
    "#Reading the parameter dataframe\n",
    "PATH = 'results/'\n",
    "\n",
    "pars_df = pd.read_csv(PATH+'parameters.csv')\n",
    "pars_df.set_index('pars_id', inplace=True)\n",
    "pars_df.head()"
   ]
  },
  {
   "cell_type": "markdown",
   "id": "6dba1872",
   "metadata": {},
   "source": [
    "## Computing and saving group size distributions"
   ]
  },
  {
   "cell_type": "code",
   "execution_count": null,
   "id": "77e56336",
   "metadata": {},
   "outputs": [],
   "source": [
    "#Input\n",
    "IN_PATH = 'results/'\n",
    "\n",
    "#Output\n",
    "OUT_PATH = 'results-gsize-dist/'\n",
    "if not os.path.exists(OUT_PATH):\n",
    "    os.makedirs(OUT_PATH)\n",
    "    \n",
    "for ID in pars_df.index: \n",
    "    print(ID)\n",
    "    #Reading the realisation with the given parameters\n",
    "    Hs = read_edgelists_from_df(ID, pars_df, IN_PATH)\n",
    "    print(\"read...\")\n",
    "    #Computing group size distributions\n",
    "    ks, Pks = group_size_dist(Hs)\n",
    "    #Saving group size distribution\n",
    "    df = pd.DataFrame({'k':ks,'Pk':Pks})\n",
    "    OUT_FNAME = \"Pk_pars_id%i.csv\"%ID\n",
    "    df.to_csv(OUT_PATH+OUT_FNAME, header=True, index=False)"
   ]
  },
  {
   "cell_type": "markdown",
   "id": "0ea68f95",
   "metadata": {},
   "source": [
    "## Computing ans saving node transition matrices"
   ]
  },
  {
   "cell_type": "code",
   "execution_count": null,
   "id": "93fb3b81",
   "metadata": {},
   "outputs": [],
   "source": [
    "#Input\n",
    "IN_PATH = 'results/'\n",
    "\n",
    "#Output\n",
    "OUT_PATH = 'results-gtrans-mat/'\n",
    "if not os.path.exists(OUT_PATH):\n",
    "    os.makedirs(OUT_PATH)\n",
    "\n",
    "for ID in pars_df.index: \n",
    "    print(ID)\n",
    "    #Reading the realisation with the given parameters\n",
    "    Hs = read_edgelists_from_df(ID, pars_df, IN_PATH)\n",
    "    print(\"read...\")\n",
    "    #Computing transition matrix\n",
    "    T = get_transition_matrix(Hs, max_k = 20, normed=True)\n",
    "    #Converting it to a dataframe\n",
    "    df_T = transition_matrix_to_df(T)\n",
    "    #Saving\n",
    "    OUT_FNAME = \"T_pars_id%i.csv\"%ID\n",
    "    df_T.to_csv(OUT_PATH+OUT_FNAME, header=True, index=False)    "
   ]
  }
 ],
 "metadata": {
  "kernelspec": {
   "display_name": "Python [conda env:pyenv] *",
   "language": "python",
   "name": "conda-env-pyenv-py"
  },
  "language_info": {
   "codemirror_mode": {
    "name": "ipython",
    "version": 3
   },
   "file_extension": ".py",
   "mimetype": "text/x-python",
   "name": "python",
   "nbconvert_exporter": "python",
   "pygments_lexer": "ipython3",
   "version": "3.10.2"
  }
 },
 "nbformat": 4,
 "nbformat_minor": 5
}
